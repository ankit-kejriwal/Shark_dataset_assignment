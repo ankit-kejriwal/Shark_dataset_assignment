{
 "cells": [
  {
   "cell_type": "code",
   "execution_count": 1,
   "metadata": {},
   "outputs": [
    {
     "name": "stdout",
     "output_type": "stream",
     "text": [
      "<class 'pandas.core.frame.DataFrame'>\n",
      "RangeIndex: 25760 entries, 0 to 25759\n",
      "Data columns (total 24 columns):\n",
      "Case Number               8739 non-null object\n",
      "Date                      6451 non-null object\n",
      "Year                      6449 non-null float64\n",
      "Type                      6447 non-null object\n",
      "Country                   6401 non-null object\n",
      "Area                      5988 non-null object\n",
      "Location                  5904 non-null object\n",
      "Activity                  5901 non-null object\n",
      "Name                      6241 non-null object\n",
      "Sex                       5886 non-null object\n",
      "Age                       3586 non-null object\n",
      "Injury                    6423 non-null object\n",
      "Fatal (Y/N)               5905 non-null object\n",
      "Time                      3064 non-null object\n",
      "Species                   3545 non-null object\n",
      "Investigator or Source    6434 non-null object\n",
      "pdf                       6451 non-null object\n",
      "href formula              6449 non-null object\n",
      "href                      6451 non-null object\n",
      "Case Number.1             6451 non-null object\n",
      "Case Number.2             6451 non-null object\n",
      "original order            6451 non-null float64\n",
      "Unnamed: 22               1 non-null object\n",
      "Unnamed: 23               2 non-null object\n",
      "dtypes: float64(2), object(22)\n",
      "memory usage: 4.7+ MB\n"
     ]
    }
   ],
   "source": [
    "\n",
    "import pandas as pd\n",
    "shark = pd.read_excel(\"GSAF5-1.xls\")\n",
    "shark.head()\n",
    "shark.info()\n",
    "region_mapping = pd.read_csv('https://raw.githubusercontent.com/cphalpert/census-regions/master/us%20census%20bureau%20regions%20and%20divisions.csv')"
   ]
  },
  {
   "cell_type": "code",
   "execution_count": 2,
   "metadata": {},
   "outputs": [
    {
     "data": {
      "text/plain": [
       "Index(['Case Number', 'Date', 'Year', 'Type', 'Country', 'Area', 'Location',\n",
       "       'Activity', 'Name', 'Sex ', 'Age', 'Injury', 'Fatal (Y/N)', 'Time',\n",
       "       'Species ', 'Investigator or Source', 'pdf', 'href formula', 'href',\n",
       "       'Case Number.1', 'Case Number.2', 'original order', 'Unnamed: 22',\n",
       "       'Unnamed: 23'],\n",
       "      dtype='object')"
      ]
     },
     "execution_count": 2,
     "metadata": {},
     "output_type": "execute_result"
    }
   ],
   "source": [
    "shark.columns"
   ]
  },
  {
   "cell_type": "code",
   "execution_count": 3,
   "metadata": {},
   "outputs": [],
   "source": [
    "shark.columns = shark.columns.str.rstrip()"
   ]
  },
  {
   "cell_type": "code",
   "execution_count": 4,
   "metadata": {},
   "outputs": [
    {
     "data": {
      "text/plain": [
       "Case Number               17021\n",
       "Date                      19309\n",
       "Year                      19311\n",
       "Type                      19313\n",
       "Country                   19359\n",
       "Area                      19772\n",
       "Location                  19856\n",
       "Activity                  19859\n",
       "Name                      19519\n",
       "Sex                       19874\n",
       "Age                       22174\n",
       "Injury                    19337\n",
       "Fatal (Y/N)               19855\n",
       "Time                      22696\n",
       "Species                   22215\n",
       "Investigator or Source    19326\n",
       "pdf                       19309\n",
       "href formula              19311\n",
       "href                      19309\n",
       "Case Number.1             19309\n",
       "Case Number.2             19309\n",
       "original order            19309\n",
       "Unnamed: 22               25759\n",
       "Unnamed: 23               25758\n",
       "dtype: int64"
      ]
     },
     "execution_count": 4,
     "metadata": {},
     "output_type": "execute_result"
    }
   ],
   "source": [
    "shark.isnull().sum()"
   ]
  },
  {
   "cell_type": "code",
   "execution_count": 5,
   "metadata": {},
   "outputs": [],
   "source": [
    "shark = shark.dropna(subset=['Activity','Area','Country','Location'],how='all')"
   ]
  },
  {
   "cell_type": "code",
   "execution_count": 6,
   "metadata": {},
   "outputs": [
    {
     "name": "stdout",
     "output_type": "stream",
     "text": [
      "<class 'pandas.core.frame.DataFrame'>\n",
      "Int64Index: 6444 entries, 0 to 6450\n",
      "Data columns (total 24 columns):\n",
      "Case Number               6443 non-null object\n",
      "Date                      6444 non-null object\n",
      "Year                      6442 non-null float64\n",
      "Type                      6440 non-null object\n",
      "Country                   6401 non-null object\n",
      "Area                      5988 non-null object\n",
      "Location                  5904 non-null object\n",
      "Activity                  5901 non-null object\n",
      "Name                      6234 non-null object\n",
      "Sex                       5879 non-null object\n",
      "Age                       3584 non-null object\n",
      "Injury                    6417 non-null object\n",
      "Fatal (Y/N)               5898 non-null object\n",
      "Time                      3062 non-null object\n",
      "Species                   3544 non-null object\n",
      "Investigator or Source    6427 non-null object\n",
      "pdf                       6444 non-null object\n",
      "href formula              6442 non-null object\n",
      "href                      6444 non-null object\n",
      "Case Number.1             6444 non-null object\n",
      "Case Number.2             6444 non-null object\n",
      "original order            6444 non-null float64\n",
      "Unnamed: 22               1 non-null object\n",
      "Unnamed: 23               2 non-null object\n",
      "dtypes: float64(2), object(22)\n",
      "memory usage: 1.2+ MB\n",
      "<class 'pandas.core.frame.DataFrame'>\n",
      "RangeIndex: 51 entries, 0 to 50\n",
      "Data columns (total 4 columns):\n",
      "State         51 non-null object\n",
      "State Code    51 non-null object\n",
      "Region        51 non-null object\n",
      "Division      51 non-null object\n",
      "dtypes: object(4)\n",
      "memory usage: 1.7+ KB\n"
     ]
    }
   ],
   "source": [
    "shark.info()\n",
    "region_mapping.info()"
   ]
  },
  {
   "cell_type": "code",
   "execution_count": 7,
   "metadata": {},
   "outputs": [
    {
     "data": {
      "text/plain": [
       "Case Number                  1\n",
       "Date                         0\n",
       "Year                         2\n",
       "Type                         4\n",
       "Country                     43\n",
       "Area                       456\n",
       "Location                   540\n",
       "Activity                   543\n",
       "Name                       210\n",
       "Sex                        565\n",
       "Age                       2860\n",
       "Injury                      27\n",
       "Fatal (Y/N)                546\n",
       "Time                      3382\n",
       "Species                   2900\n",
       "Investigator or Source      17\n",
       "pdf                          0\n",
       "href formula                 2\n",
       "href                         0\n",
       "Case Number.1                0\n",
       "Case Number.2                0\n",
       "original order               0\n",
       "Unnamed: 22               6443\n",
       "Unnamed: 23               6442\n",
       "dtype: int64"
      ]
     },
     "execution_count": 7,
     "metadata": {},
     "output_type": "execute_result"
    }
   ],
   "source": [
    "shark.isnull().sum()"
   ]
  },
  {
   "cell_type": "code",
   "execution_count": 8,
   "metadata": {},
   "outputs": [],
   "source": [
    "\n",
    "import numpy as np\n",
    "\n",
    "final_data = shark[np.logical_and(shark[\"Year\"]>1999, shark[\"Year\"]<2020)]\n",
    "# to get us data\n",
    "us_data = final_data[final_data.Country == 'USA']"
   ]
  },
  {
   "cell_type": "code",
   "execution_count": 9,
   "metadata": {},
   "outputs": [
    {
     "name": "stdout",
     "output_type": "stream",
     "text": [
      "<class 'pandas.core.frame.DataFrame'>\n",
      "Int64Index: 1087 entries, 0 to 2218\n",
      "Data columns (total 24 columns):\n",
      "Case Number               1087 non-null object\n",
      "Date                      1087 non-null object\n",
      "Year                      1087 non-null float64\n",
      "Type                      1087 non-null object\n",
      "Country                   1087 non-null object\n",
      "Area                      1087 non-null object\n",
      "Location                  1080 non-null object\n",
      "Activity                  1036 non-null object\n",
      "Name                      1077 non-null object\n",
      "Sex                       1059 non-null object\n",
      "Age                       872 non-null object\n",
      "Injury                    1087 non-null object\n",
      "Fatal (Y/N)               1023 non-null object\n",
      "Time                      900 non-null object\n",
      "Species                   676 non-null object\n",
      "Investigator or Source    1085 non-null object\n",
      "pdf                       1087 non-null object\n",
      "href formula              1087 non-null object\n",
      "href                      1087 non-null object\n",
      "Case Number.1             1087 non-null object\n",
      "Case Number.2             1087 non-null object\n",
      "original order            1087 non-null float64\n",
      "Unnamed: 22               1 non-null object\n",
      "Unnamed: 23               0 non-null object\n",
      "dtypes: float64(2), object(22)\n",
      "memory usage: 212.3+ KB\n"
     ]
    },
    {
     "data": {
      "text/plain": [
       "Case Number                  0\n",
       "Date                         0\n",
       "Year                         0\n",
       "Type                         0\n",
       "Country                      0\n",
       "Area                         0\n",
       "Location                     7\n",
       "Activity                    51\n",
       "Name                        10\n",
       "Sex                         28\n",
       "Age                        215\n",
       "Injury                       0\n",
       "Fatal (Y/N)                 64\n",
       "Time                       187\n",
       "Species                    411\n",
       "Investigator or Source       2\n",
       "pdf                          0\n",
       "href formula                 0\n",
       "href                         0\n",
       "Case Number.1                0\n",
       "Case Number.2                0\n",
       "original order               0\n",
       "Unnamed: 22               1086\n",
       "Unnamed: 23               1087\n",
       "dtype: int64"
      ]
     },
     "execution_count": 9,
     "metadata": {},
     "output_type": "execute_result"
    }
   ],
   "source": [
    "us_data.info()\n",
    "us_data.isnull().sum()"
   ]
  },
  {
   "cell_type": "code",
   "execution_count": 10,
   "metadata": {},
   "outputs": [
    {
     "name": "stdout",
     "output_type": "stream",
     "text": [
      "<class 'pandas.core.frame.DataFrame'>\n",
      "Int64Index: 1078 entries, 0 to 1077\n",
      "Data columns (total 28 columns):\n",
      "Case Number               1078 non-null object\n",
      "Date                      1078 non-null object\n",
      "Year                      1078 non-null float64\n",
      "Type                      1078 non-null object\n",
      "Country                   1078 non-null object\n",
      "Area                      1078 non-null object\n",
      "Location                  1074 non-null object\n",
      "Activity                  1027 non-null object\n",
      "Name                      1068 non-null object\n",
      "Sex                       1050 non-null object\n",
      "Age                       864 non-null object\n",
      "Injury                    1078 non-null object\n",
      "Fatal (Y/N)               1015 non-null object\n",
      "Time                      893 non-null object\n",
      "Species                   670 non-null object\n",
      "Investigator or Source    1076 non-null object\n",
      "pdf                       1078 non-null object\n",
      "href formula              1078 non-null object\n",
      "href                      1078 non-null object\n",
      "Case Number.1             1078 non-null object\n",
      "Case Number.2             1078 non-null object\n",
      "original order            1078 non-null float64\n",
      "Unnamed: 22               1 non-null object\n",
      "Unnamed: 23               0 non-null object\n",
      "State                     1078 non-null object\n",
      "State Code                1078 non-null object\n",
      "Region                    1078 non-null object\n",
      "Division                  1078 non-null object\n",
      "dtypes: float64(2), object(26)\n",
      "memory usage: 244.2+ KB\n"
     ]
    }
   ],
   "source": [
    "new_us_data = pd.merge(us_data, region_mapping, left_on='Area', right_on='State')\n",
    "new_us_data.info()"
   ]
  },
  {
   "cell_type": "code",
   "execution_count": 11,
   "metadata": {},
   "outputs": [
    {
     "name": "stdout",
     "output_type": "stream",
     "text": [
      "Activity\n",
      "Surfing                                                393\n",
      "Swimming                                               154\n",
      "Wading                                                  66\n",
      "Fishing                                                 37\n",
      "Standing                                                32\n",
      "Spearfishing                                            27\n",
      "Boogie boarding                                         22\n",
      "Snorkeling                                              21\n",
      "Body boarding                                           16\n",
      "Boogie Boarding                                         13\n",
      "Kayaking                                                12\n",
      "Body surfing                                            11\n",
      "Diving                                                   9\n",
      "Walking                                                  8\n",
      "Stand-Up Paddleboarding                                  7\n",
      "Kayak Fishing                                            7\n",
      "Paddle boarding                                          6\n",
      "Swimming                                                 6\n",
      "Floating                                                 5\n",
      "Fishing                                                  5\n",
      "Scuba diving                                             4\n",
      "Wade Fishing                                             4\n",
      "Playing                                                  4\n",
      "Canoeing                                                 3\n",
      "SUP                                                      3\n",
      "Surfing                                                  3\n",
      "Kayaking / Fishing                                       3\n",
      "Playing in the surf                                      3\n",
      "Kite Surfing                                             3\n",
      "Walking out of the water after surfing                   3\n",
      "                                                      ... \n",
      "Picking opihi                                            1\n",
      "Playing in the surf with his 2 dogs                      1\n",
      "Playing in the water                                     1\n",
      "Playing on a sandbar                                     1\n",
      "Windsurfing, but sitting on his board                    1\n",
      "Removing hook from shark                                 1\n",
      "Reviving a sedated shark                                 1\n",
      "SUP Foil boarding                                        1\n",
      "Sailing                                                  1\n",
      "Sea Disaster                                             1\n",
      "Shark Fishing                                            1\n",
      "Shrimping                                                1\n",
      "Sitting in the water                                     1\n",
      "Spearfishing / Diving                                    1\n",
      "Surfing, fell off surfboard & stepped on the shark.      1\n",
      "Spearfishing, holding mesh bag with speared fish         1\n",
      "Standing / Snorkeling                                    1\n",
      "Standing / Surfing                                       1\n",
      "Standing / surfing                                       1\n",
      "Standing alongside surfboard                             1\n",
      "Standing in inner tube                                   1\n",
      "Standing or boogie boardin                               1\n",
      "Standing, holding shark pup                              1\n",
      "Standing, stepped on shark                               1\n",
      "Surf fishing / wading                                    1\n",
      "Surf paddling                                            1\n",
      "Surf-skiing                                              1\n",
      "Surfing / Wading                                         1\n",
      "Surfing, but standing in water alongside board           1\n",
      "Attempting to illegally enter the USA                    1\n",
      "Length: 154, dtype: int64\n",
      "<class 'pandas.core.frame.DataFrame'>\n",
      "Int64Index: 1027 entries, 0 to 1077\n",
      "Data columns (total 28 columns):\n",
      "Case Number               1027 non-null object\n",
      "Date                      1027 non-null object\n",
      "Year                      1027 non-null float64\n",
      "Type                      1027 non-null object\n",
      "Country                   1027 non-null object\n",
      "Area                      1027 non-null object\n",
      "Location                  1023 non-null object\n",
      "Activity                  1027 non-null object\n",
      "Name                      1021 non-null object\n",
      "Sex                       1004 non-null object\n",
      "Age                       837 non-null object\n",
      "Injury                    1027 non-null object\n",
      "Fatal (Y/N)               972 non-null object\n",
      "Time                      863 non-null object\n",
      "Species                   650 non-null object\n",
      "Investigator or Source    1026 non-null object\n",
      "pdf                       1027 non-null object\n",
      "href formula              1027 non-null object\n",
      "href                      1027 non-null object\n",
      "Case Number.1             1027 non-null object\n",
      "Case Number.2             1027 non-null object\n",
      "original order            1027 non-null float64\n",
      "Unnamed: 22               1 non-null object\n",
      "Unnamed: 23               0 non-null object\n",
      "State                     1027 non-null object\n",
      "State Code                1027 non-null object\n",
      "Region                    1027 non-null object\n",
      "Division                  1027 non-null object\n",
      "dtypes: float64(2), object(26)\n",
      "memory usage: 232.7+ KB\n"
     ]
    }
   ],
   "source": [
    "print(new_us_data.groupby('Activity').size().sort_values(ascending=False))\n",
    "#dropping all the activity which is not given. We can discuss on this\n",
    "new_us_data = new_us_data.dropna(subset=['Activity'])\n",
    "new_us_data.info()"
   ]
  },
  {
   "cell_type": "code",
   "execution_count": 12,
   "metadata": {},
   "outputs": [],
   "source": [
    "import re\n",
    "import numpy as np\n",
    "# final_data.loc[final_data.Activity.str.contains('fishing',case=False, regex=True), 'Activity'] = 'xyz'\n",
    "\n",
    "fishing = 'fishing'\n",
    "surfing = 'surfing'\n",
    "swimming = 'swimming'\n",
    "wading = 'wading'\n",
    "others = 'others'\n",
    "def replace_activity(x):\n",
    "    \n",
    "    if fishing in x:\n",
    "        return \"Fishing\"\n",
    "    elif surfing in x:\n",
    "        return \"Surfing\"\n",
    "    elif swimming in x:\n",
    "        return \"Swimming\"\n",
    "    elif wading in x:\n",
    "        return \"Wading\"\n",
    "    else:\n",
    "        return \"Others\""
   ]
  },
  {
   "cell_type": "code",
   "execution_count": 13,
   "metadata": {},
   "outputs": [],
   "source": [
    "new_us_data['Activity_NewCol'] = new_us_data.apply(lambda x: replace_activity(x['Activity'].lower()), axis=1)"
   ]
  },
  {
   "cell_type": "code",
   "execution_count": 14,
   "metadata": {},
   "outputs": [
    {
     "data": {
      "text/plain": [
       "Activity_NewCol\n",
       "Surfing     430\n",
       "Others      249\n",
       "Swimming    176\n",
       "Fishing     103\n",
       "Wading       69\n",
       "dtype: int64"
      ]
     },
     "execution_count": 14,
     "metadata": {},
     "output_type": "execute_result"
    }
   ],
   "source": [
    "new_us_data.groupby('Activity_NewCol').size().sort_values(ascending=False)"
   ]
  },
  {
   "cell_type": "code",
   "execution_count": 16,
   "metadata": {},
   "outputs": [
    {
     "name": "stdout",
     "output_type": "stream",
     "text": [
      "Activity_NewCol\n",
      "Fishing     103\n",
      "Others      249\n",
      "Surfing     430\n",
      "Swimming    176\n",
      "Wading       69\n",
      "dtype: int64\n"
     ]
    },
    {
     "data": {
      "image/png": "[encoded data removed]",
      "text/plain": [
       "<Figure size 1080x360 with 1 Axes>"
      ]
     },
     "metadata": {
      "needs_background": "light"
     },
     "output_type": "display_data"
    }
   ],
   "source": [
    "###### Write your code here\n",
    "import seaborn as sns\n",
    "import matplotlib.pyplot as plt\n",
    "act=print(new_us_data.groupby(\"Activity_NewCol\").size())\n",
    "plt.figure(figsize=(15,5))\n",
    "sns.countplot(x=\"Activity_NewCol\",data=new_us_data)\n",
    "plt.show()"
   ]
  },
  {
   "cell_type": "code",
   "execution_count": 17,
   "metadata": {},
   "outputs": [],
   "source": [
    "dt=new_us_data[new_us_data.Region == 'South']\n",
    "dt=(dt[dt.Activity_NewCol== 'Surfing'])\n",
    "Surfing=[]\n",
    "Surfing.append(dt.Activity_NewCol.count())"
   ]
  },
  {
   "cell_type": "code",
   "execution_count": 18,
   "metadata": {},
   "outputs": [],
   "source": [
    "dt=new_us_data[new_us_data.Region == 'West']\n",
    "dt=(dt[dt.Activity_NewCol== 'Surfing'])\n",
    "Surfing.append(dt.Activity_NewCol.count())"
   ]
  },
  {
   "cell_type": "code",
   "execution_count": 19,
   "metadata": {},
   "outputs": [],
   "source": [
    "dt=new_us_data[new_us_data.Region == 'Northeast']\n",
    "dt=(dt[dt.Activity_NewCol== 'Surfing'])\n",
    "Surfing.append(dt.Activity_NewCol.count())"
   ]
  },
  {
   "cell_type": "code",
   "execution_count": 20,
   "metadata": {},
   "outputs": [
    {
     "data": {
      "text/plain": [
       "[302, 123, 5]"
      ]
     },
     "execution_count": 20,
     "metadata": {},
     "output_type": "execute_result"
    }
   ],
   "source": [
    "Surfing"
   ]
  },
  {
   "cell_type": "code",
   "execution_count": 21,
   "metadata": {},
   "outputs": [],
   "source": [
    "dt=new_us_data[new_us_data.Region == 'South']\n",
    "dt=(dt[dt.Activity_NewCol== 'Others'])\n",
    "Others=[]\n",
    "Others.append(dt.Activity_NewCol.count())"
   ]
  },
  {
   "cell_type": "code",
   "execution_count": 22,
   "metadata": {},
   "outputs": [],
   "source": [
    "\n",
    "dt=new_us_data[new_us_data.Region == 'West']\n",
    "dt=(dt[dt.Activity_NewCol== 'Others'])\n",
    "Others.append(dt.Activity_NewCol.count())"
   ]
  },
  {
   "cell_type": "code",
   "execution_count": 23,
   "metadata": {},
   "outputs": [],
   "source": [
    "dt=new_us_data[new_us_data.Region == 'Northeast']\n",
    "dt=(dt[dt.Activity_NewCol== 'Others'])\n",
    "Others.append(dt.Activity_NewCol.count())"
   ]
  },
  {
   "cell_type": "code",
   "execution_count": 24,
   "metadata": {},
   "outputs": [
    {
     "data": {
      "text/plain": [
       "[156, 85, 8]"
      ]
     },
     "execution_count": 24,
     "metadata": {},
     "output_type": "execute_result"
    }
   ],
   "source": [
    "Others"
   ]
  },
  {
   "cell_type": "code",
   "execution_count": 25,
   "metadata": {},
   "outputs": [],
   "source": [
    "dt=new_us_data[new_us_data.Region == 'South']\n",
    "dt=(dt[dt.Activity_NewCol== 'Swimming'])\n",
    "Swimming=[]\n",
    "Swimming.append(dt.Activity_NewCol.count())"
   ]
  },
  {
   "cell_type": "code",
   "execution_count": 26,
   "metadata": {},
   "outputs": [],
   "source": [
    "dt=new_us_data[new_us_data.Region == 'West']\n",
    "dt=(dt[dt.Activity_NewCol== 'Swimming'])\n",
    "Swimming.append(dt.Activity_NewCol.count())"
   ]
  },
  {
   "cell_type": "code",
   "execution_count": 27,
   "metadata": {},
   "outputs": [],
   "source": [
    "dt=new_us_data[new_us_data.Region == 'Northeast']\n",
    "dt=(dt[dt.Activity_NewCol== 'Swimming'])\n",
    "Swimming.append(dt.Activity_NewCol.count())"
   ]
  },
  {
   "cell_type": "code",
   "execution_count": 28,
   "metadata": {},
   "outputs": [
    {
     "data": {
      "text/plain": [
       "[142, 33, 1]"
      ]
     },
     "execution_count": 28,
     "metadata": {},
     "output_type": "execute_result"
    }
   ],
   "source": [
    "Swimming"
   ]
  },
  {
   "cell_type": "code",
   "execution_count": 29,
   "metadata": {},
   "outputs": [],
   "source": [
    "dt=new_us_data[new_us_data.Region == 'South']\n",
    "dt=(dt[dt.Activity_NewCol== 'Fishing'])\n",
    "Fishing=[]\n",
    "Fishing.append(dt.Activity_NewCol.count())"
   ]
  },
  {
   "cell_type": "code",
   "execution_count": 30,
   "metadata": {},
   "outputs": [],
   "source": [
    "dt=new_us_data[new_us_data.Region == 'West']\n",
    "dt=(dt[dt.Activity_NewCol== 'Fishing'])\n",
    "Fishing.append(dt.Activity_NewCol.count())"
   ]
  },
  {
   "cell_type": "code",
   "execution_count": 31,
   "metadata": {},
   "outputs": [],
   "source": [
    "dt=new_us_data[new_us_data.Region == 'Northeast']\n",
    "dt=(dt[dt.Activity_NewCol== 'Fishing'])\n",
    "Fishing.append(dt.Activity_NewCol.count())"
   ]
  },
  {
   "cell_type": "code",
   "execution_count": 32,
   "metadata": {},
   "outputs": [
    {
     "data": {
      "text/plain": [
       "[66, 32, 5]"
      ]
     },
     "execution_count": 32,
     "metadata": {},
     "output_type": "execute_result"
    }
   ],
   "source": [
    "Fishing"
   ]
  },
  {
   "cell_type": "code",
   "execution_count": 33,
   "metadata": {},
   "outputs": [],
   "source": [
    "dt=new_us_data[new_us_data.Region == 'South']\n",
    "dt=(dt[dt.Activity_NewCol== 'Wading'])\n",
    "Wading=[]\n",
    "Wading.append(dt.Activity_NewCol.count())"
   ]
  },
  {
   "cell_type": "code",
   "execution_count": 34,
   "metadata": {},
   "outputs": [],
   "source": [
    "dt=new_us_data[new_us_data.Region == 'West']\n",
    "dt=(dt[dt.Activity_NewCol== 'Wading'])\n",
    "Wading.append(dt.Activity_NewCol.count())"
   ]
  },
  {
   "cell_type": "code",
   "execution_count": 35,
   "metadata": {},
   "outputs": [],
   "source": [
    "dt=new_us_data[new_us_data.Region == 'Northeast']\n",
    "dt=(dt[dt.Activity_NewCol== 'Wading'])\n",
    "Wading.append(dt.Activity_NewCol.count())"
   ]
  },
  {
   "cell_type": "code",
   "execution_count": 36,
   "metadata": {},
   "outputs": [
    {
     "data": {
      "text/plain": [
       "[66, 2, 1]"
      ]
     },
     "execution_count": 36,
     "metadata": {},
     "output_type": "execute_result"
    }
   ],
   "source": [
    "Wading"
   ]
  },
  {
   "cell_type": "code",
   "execution_count": 37,
   "metadata": {},
   "outputs": [
    {
     "name": "stdout",
     "output_type": "stream",
     "text": [
      "[302, 123, 5]\n",
      "[142, 33, 1]\n",
      "[66, 2, 1]\n",
      "[66, 32, 5]\n",
      "[156, 85, 8]\n"
     ]
    }
   ],
   "source": [
    "print(Surfing)\n",
    "print(Swimming)\n",
    "print(Wading)\n",
    "print(Fishing)\n",
    "print(Others)"
   ]
  },
  {
   "cell_type": "code",
   "execution_count": 38,
   "metadata": {},
   "outputs": [
    {
     "data": {
      "image/png": "[encoded data removed]",
      "text/plain": [
       "<Figure size 720x720 with 1 Axes>"
      ]
     },
     "metadata": {
      "needs_background": "light"
     },
     "output_type": "display_data"
    }
   ],
   "source": [
    "plt.figure(figsize=(10,10))\n",
    "r = [0,1,2]\n",
    "names = ['South','West','NorthEast']\n",
    "barWidth = 1\n",
    "\n",
    "plt.bar(r, Surfing, color='blue', edgecolor='white', label=\"Surfing\",width=barWidth)\n",
    "plt.bar(r, Others, color='orange', edgecolor='white',width=barWidth,label=\"Others\")\n",
    "plt.bar(r, Swimming, color='purple', edgecolor='white',width=barWidth,label=\"Swimming\") \n",
    "\n",
    "plt.bar(r, Fishing, color='red', edgecolor='white',width=barWidth,label=\"Fishing\")\n",
    "\n",
    "plt.bar(r, Wading, color='green', edgecolor='white',width=barWidth,label=\"Wading\",bottom=Fishing)\n",
    "\n",
    "plt.xticks(r, names, fontweight='bold')\n",
    "plt.xlabel(\"Regions \")\n",
    "plt.legend()\n",
    "plt.show()"
   ]
  },
  {
   "cell_type": "code",
   "execution_count": 39,
   "metadata": {},
   "outputs": [
    {
     "data": {
      "text/plain": [
       "Region\n",
       "Northeast     20\n",
       "South        732\n",
       "West         275\n",
       "dtype: int64"
      ]
     },
     "execution_count": 39,
     "metadata": {},
     "output_type": "execute_result"
    }
   ],
   "source": [
    "new_us_data.groupby(\"Region\").size()"
   ]
  },
  {
   "cell_type": "code",
   "execution_count": 40,
   "metadata": {},
   "outputs": [
    {
     "data": {
      "text/plain": [
       "Division\n",
       "East South Central      9\n",
       "Middle Atlantic        10\n",
       "Mountain                1\n",
       "New England            10\n",
       "Pacific               274\n",
       "South Atlantic        686\n",
       "West South Central     37\n",
       "dtype: int64"
      ]
     },
     "execution_count": 40,
     "metadata": {},
     "output_type": "execute_result"
    }
   ],
   "source": [
    "new_us_data.groupby(\"Division\").size()"
   ]
  },
  {
   "cell_type": "code",
   "execution_count": 41,
   "metadata": {},
   "outputs": [
    {
     "name": "stdout",
     "output_type": "stream",
     "text": [
      "Region\n",
      "Northeast     20\n",
      "South        732\n",
      "West         275\n",
      "dtype: int64\n"
     ]
    },
    {
     "data": {
      "text/plain": [
       "<matplotlib.axes._subplots.AxesSubplot at 0x1a192bc668>"
      ]
     },
     "execution_count": 41,
     "metadata": {},
     "output_type": "execute_result"
    },
    {
     "data": {
      "image/png": "[encoded data removed]",
      "text/plain": [
       "<Figure size 1080x360 with 1 Axes>"
      ]
     },
     "metadata": {
      "needs_background": "light"
     },
     "output_type": "display_data"
    }
   ],
   "source": [
    "import seaborn as sns\n",
    "import matplotlib.pyplot as plt\n",
    "print(new_us_data.groupby(\"Region\").size())\n",
    "plt.figure(figsize=(15,5))\n",
    "sns.countplot(x=\"Region\",data=new_us_data)"
   ]
  },
  {
   "cell_type": "code",
   "execution_count": 42,
   "metadata": {},
   "outputs": [
    {
     "name": "stdout",
     "output_type": "stream",
     "text": [
      "Division\n",
      "East South Central      9\n",
      "Middle Atlantic        10\n",
      "Mountain                1\n",
      "New England            10\n",
      "Pacific               274\n",
      "South Atlantic        686\n",
      "West South Central     37\n",
      "dtype: int64\n"
     ]
    },
    {
     "data": {
      "text/plain": [
       "<matplotlib.axes._subplots.AxesSubplot at 0x1a196918d0>"
      ]
     },
     "execution_count": 42,
     "metadata": {},
     "output_type": "execute_result"
    },
    {
     "data": {
      "image/png": "[encoded data removed]",
      "text/plain": [
       "<Figure size 1080x360 with 1 Axes>"
      ]
     },
     "metadata": {
      "needs_background": "light"
     },
     "output_type": "display_data"
    }
   ],
   "source": [
    "import seaborn as sns\n",
    "import matplotlib.pyplot as plt\n",
    "print(new_us_data.groupby(\"Division\").size())\n",
    "plt.figure(figsize=(15,5))\n",
    "sns.countplot(x=\"Division\",data=new_us_data)"
   ]
  },
  {
   "cell_type": "code",
   "execution_count": null,
   "metadata": {},
   "outputs": [],
   "source": []
  }
 ],
 "metadata": {
  "kernelspec": {
   "display_name": "Python 3",
   "language": "python",
   "name": "python3"
  },
  "language_info": {
   "codemirror_mode": {
    "name": "ipython",
    "version": 3
   },
   "file_extension": ".py",
   "mimetype": "text/x-python",
   "name": "python",
   "nbconvert_exporter": "python",
   "pygments_lexer": "ipython3",
   "version": "3.7.3"
  }
 },
 "nbformat": 4,
 "nbformat_minor": 2
}
