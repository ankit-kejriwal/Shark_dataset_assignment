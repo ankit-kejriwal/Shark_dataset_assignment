{
 "cells": [
  {
   "cell_type": "code",
   "execution_count": 2,
   "metadata": {},
   "outputs": [
    {
     "name": "stdout",
     "output_type": "stream",
     "text": [
      "<class 'pandas.core.frame.DataFrame'>\n",
      "RangeIndex: 25760 entries, 0 to 25759\n",
      "Data columns (total 24 columns):\n",
      "Case Number               8739 non-null object\n",
      "Date                      6451 non-null object\n",
      "Year                      6449 non-null float64\n",
      "Type                      6447 non-null object\n",
      "Country                   6401 non-null object\n",
      "Area                      5988 non-null object\n",
      "Location                  5904 non-null object\n",
      "Activity                  5901 non-null object\n",
      "Name                      6241 non-null object\n",
      "Sex                       5886 non-null object\n",
      "Age                       3586 non-null object\n",
      "Injury                    6423 non-null object\n",
      "Fatal (Y/N)               5905 non-null object\n",
      "Time                      3064 non-null object\n",
      "Species                   3545 non-null object\n",
      "Investigator or Source    6434 non-null object\n",
      "pdf                       6451 non-null object\n",
      "href formula              6449 non-null object\n",
      "href                      6451 non-null object\n",
      "Case Number.1             6451 non-null object\n",
      "Case Number.2             6451 non-null object\n",
      "original order            6451 non-null float64\n",
      "Unnamed: 22               1 non-null object\n",
      "Unnamed: 23               2 non-null object\n",
      "dtypes: float64(2), object(22)\n",
      "memory usage: 4.7+ MB\n"
     ]
    }
   ],
   "source": [
    "import pandas as pd\n",
    "import os\n",
    "os.chdir(\"C:\\\\KDD project\") #settig up the directory\n",
    "shark = pd.read_excel(\"KDD.xlsx\")\n",
    "shark.head()\n",
    "shark.info()\n",
    "region_mapping = pd.read_csv('https://raw.githubusercontent.com/cphalpert/census-regions/master/us%20census%20bureau%20regions%20and%20divisions.csv')"
   ]
  },
  {
   "cell_type": "code",
   "execution_count": 3,
   "metadata": {},
   "outputs": [
    {
     "data": {
      "text/plain": [
       "Index(['Case Number', 'Date', 'Year', 'Type', 'Country', 'Area', 'Location',\n",
       "       'Activity', 'Name', 'Sex ', 'Age', 'Injury', 'Fatal (Y/N)', 'Time',\n",
       "       'Species ', 'Investigator or Source', 'pdf', 'href formula', 'href',\n",
       "       'Case Number.1', 'Case Number.2', 'original order', 'Unnamed: 22',\n",
       "       'Unnamed: 23'],\n",
       "      dtype='object')"
      ]
     },
     "execution_count": 3,
     "metadata": {},
     "output_type": "execute_result"
    }
   ],
   "source": [
    "# shark.head()\n",
    "shark.tail() # print the last 10 lines of dataset\n",
    "shark.columns # print  the column names\n",
    "\n",
    "# all bottom columns are NAN\n",
    "# need to correct our column name, extra spaces are there"
   ]
  },
  {
   "cell_type": "code",
   "execution_count": 4,
   "metadata": {},
   "outputs": [
    {
     "data": {
      "text/plain": [
       "(25760, 24)"
      ]
     },
     "execution_count": 4,
     "metadata": {},
     "output_type": "execute_result"
    }
   ],
   "source": [
    "shark.shape # print  the number of rows and columns"
   ]
  },
  {
   "cell_type": "code",
   "execution_count": 5,
   "metadata": {},
   "outputs": [],
   "source": [
    "shark.columns = shark.columns.str.rstrip() # delete the spaces from the column names"
   ]
  },
  {
   "cell_type": "code",
   "execution_count": 6,
   "metadata": {},
   "outputs": [
    {
     "data": {
      "text/plain": [
       "Index(['Case Number', 'Date', 'Year', 'Type', 'Country', 'Area', 'Location',\n",
       "       'Activity', 'Name', 'Sex', 'Age', 'Injury', 'Fatal (Y/N)', 'Time',\n",
       "       'Species', 'Investigator or Source', 'pdf', 'href formula', 'href',\n",
       "       'Case Number.1', 'Case Number.2', 'original order', 'Unnamed: 22',\n",
       "       'Unnamed: 23'],\n",
       "      dtype='object')"
      ]
     },
     "execution_count": 6,
     "metadata": {},
     "output_type": "execute_result"
    }
   ],
   "source": [
    "shark.columns  "
   ]
  },
  {
   "cell_type": "code",
   "execution_count": 7,
   "metadata": {},
   "outputs": [
    {
     "data": {
      "text/plain": [
       "Case Number               17021\n",
       "Date                      19309\n",
       "Year                      19311\n",
       "Type                      19313\n",
       "Country                   19359\n",
       "Area                      19772\n",
       "Location                  19856\n",
       "Activity                  19859\n",
       "Name                      19519\n",
       "Sex                       19874\n",
       "Age                       22174\n",
       "Injury                    19337\n",
       "Fatal (Y/N)               19855\n",
       "Time                      22696\n",
       "Species                   22215\n",
       "Investigator or Source    19326\n",
       "pdf                       19309\n",
       "href formula              19311\n",
       "href                      19309\n",
       "Case Number.1             19309\n",
       "Case Number.2             19309\n",
       "original order            19309\n",
       "Unnamed: 22               25759\n",
       "Unnamed: 23               25758\n",
       "dtype: int64"
      ]
     },
     "execution_count": 7,
     "metadata": {},
     "output_type": "execute_result"
    }
   ],
   "source": [
    "shark.isnull().sum() #to check the NULL values count"
   ]
  },
  {
   "cell_type": "code",
   "execution_count": 8,
   "metadata": {},
   "outputs": [
    {
     "data": {
      "text/html": [
       "<div>\n",
       "<style scoped>\n",
       "    .dataframe tbody tr th:only-of-type {\n",
       "        vertical-align: middle;\n",
       "    }\n",
       "\n",
       "    .dataframe tbody tr th {\n",
       "        vertical-align: top;\n",
       "    }\n",
       "\n",
       "    .dataframe thead th {\n",
       "        text-align: right;\n",
       "    }\n",
       "</style>\n",
       "<table border=\"1\" class=\"dataframe\">\n",
       "  <thead>\n",
       "    <tr style=\"text-align: right;\">\n",
       "      <th></th>\n",
       "      <th>Case Number</th>\n",
       "      <th>Date</th>\n",
       "      <th>Year</th>\n",
       "      <th>Type</th>\n",
       "      <th>Country</th>\n",
       "      <th>Area</th>\n",
       "      <th>Location</th>\n",
       "      <th>Activity</th>\n",
       "      <th>Name</th>\n",
       "      <th>Sex</th>\n",
       "      <th>...</th>\n",
       "      <th>Species</th>\n",
       "      <th>Investigator or Source</th>\n",
       "      <th>pdf</th>\n",
       "      <th>href formula</th>\n",
       "      <th>href</th>\n",
       "      <th>Case Number.1</th>\n",
       "      <th>Case Number.2</th>\n",
       "      <th>original order</th>\n",
       "      <th>Unnamed: 22</th>\n",
       "      <th>Unnamed: 23</th>\n",
       "    </tr>\n",
       "  </thead>\n",
       "  <tbody>\n",
       "    <tr>\n",
       "      <th>25755</th>\n",
       "      <td>NaN</td>\n",
       "      <td>NaN</td>\n",
       "      <td>NaN</td>\n",
       "      <td>NaN</td>\n",
       "      <td>NaN</td>\n",
       "      <td>NaN</td>\n",
       "      <td>NaN</td>\n",
       "      <td>NaN</td>\n",
       "      <td>NaN</td>\n",
       "      <td>NaN</td>\n",
       "      <td>...</td>\n",
       "      <td>NaN</td>\n",
       "      <td>NaN</td>\n",
       "      <td>NaN</td>\n",
       "      <td>NaN</td>\n",
       "      <td>NaN</td>\n",
       "      <td>NaN</td>\n",
       "      <td>NaN</td>\n",
       "      <td>NaN</td>\n",
       "      <td>NaN</td>\n",
       "      <td>NaN</td>\n",
       "    </tr>\n",
       "    <tr>\n",
       "      <th>25756</th>\n",
       "      <td>NaN</td>\n",
       "      <td>NaN</td>\n",
       "      <td>NaN</td>\n",
       "      <td>NaN</td>\n",
       "      <td>NaN</td>\n",
       "      <td>NaN</td>\n",
       "      <td>NaN</td>\n",
       "      <td>NaN</td>\n",
       "      <td>NaN</td>\n",
       "      <td>NaN</td>\n",
       "      <td>...</td>\n",
       "      <td>NaN</td>\n",
       "      <td>NaN</td>\n",
       "      <td>NaN</td>\n",
       "      <td>NaN</td>\n",
       "      <td>NaN</td>\n",
       "      <td>NaN</td>\n",
       "      <td>NaN</td>\n",
       "      <td>NaN</td>\n",
       "      <td>NaN</td>\n",
       "      <td>NaN</td>\n",
       "    </tr>\n",
       "    <tr>\n",
       "      <th>25757</th>\n",
       "      <td>NaN</td>\n",
       "      <td>NaN</td>\n",
       "      <td>NaN</td>\n",
       "      <td>NaN</td>\n",
       "      <td>NaN</td>\n",
       "      <td>NaN</td>\n",
       "      <td>NaN</td>\n",
       "      <td>NaN</td>\n",
       "      <td>NaN</td>\n",
       "      <td>NaN</td>\n",
       "      <td>...</td>\n",
       "      <td>NaN</td>\n",
       "      <td>NaN</td>\n",
       "      <td>NaN</td>\n",
       "      <td>NaN</td>\n",
       "      <td>NaN</td>\n",
       "      <td>NaN</td>\n",
       "      <td>NaN</td>\n",
       "      <td>NaN</td>\n",
       "      <td>NaN</td>\n",
       "      <td>NaN</td>\n",
       "    </tr>\n",
       "    <tr>\n",
       "      <th>25758</th>\n",
       "      <td>NaN</td>\n",
       "      <td>NaN</td>\n",
       "      <td>NaN</td>\n",
       "      <td>NaN</td>\n",
       "      <td>NaN</td>\n",
       "      <td>NaN</td>\n",
       "      <td>NaN</td>\n",
       "      <td>NaN</td>\n",
       "      <td>NaN</td>\n",
       "      <td>NaN</td>\n",
       "      <td>...</td>\n",
       "      <td>NaN</td>\n",
       "      <td>NaN</td>\n",
       "      <td>NaN</td>\n",
       "      <td>NaN</td>\n",
       "      <td>NaN</td>\n",
       "      <td>NaN</td>\n",
       "      <td>NaN</td>\n",
       "      <td>NaN</td>\n",
       "      <td>NaN</td>\n",
       "      <td>NaN</td>\n",
       "    </tr>\n",
       "    <tr>\n",
       "      <th>25759</th>\n",
       "      <td>xx</td>\n",
       "      <td>NaN</td>\n",
       "      <td>NaN</td>\n",
       "      <td>NaN</td>\n",
       "      <td>NaN</td>\n",
       "      <td>NaN</td>\n",
       "      <td>NaN</td>\n",
       "      <td>NaN</td>\n",
       "      <td>NaN</td>\n",
       "      <td>NaN</td>\n",
       "      <td>...</td>\n",
       "      <td>NaN</td>\n",
       "      <td>NaN</td>\n",
       "      <td>NaN</td>\n",
       "      <td>NaN</td>\n",
       "      <td>NaN</td>\n",
       "      <td>NaN</td>\n",
       "      <td>NaN</td>\n",
       "      <td>NaN</td>\n",
       "      <td>NaN</td>\n",
       "      <td>NaN</td>\n",
       "    </tr>\n",
       "  </tbody>\n",
       "</table>\n",
       "<p>5 rows × 24 columns</p>\n",
       "</div>"
      ],
      "text/plain": [
       "      Case Number Date  Year Type Country Area Location Activity Name  Sex  \\\n",
       "25755         NaN  NaN   NaN  NaN     NaN  NaN      NaN      NaN  NaN  NaN   \n",
       "25756         NaN  NaN   NaN  NaN     NaN  NaN      NaN      NaN  NaN  NaN   \n",
       "25757         NaN  NaN   NaN  NaN     NaN  NaN      NaN      NaN  NaN  NaN   \n",
       "25758         NaN  NaN   NaN  NaN     NaN  NaN      NaN      NaN  NaN  NaN   \n",
       "25759          xx  NaN   NaN  NaN     NaN  NaN      NaN      NaN  NaN  NaN   \n",
       "\n",
       "       ... Species Investigator or Source  pdf href formula href  \\\n",
       "25755  ...     NaN                    NaN  NaN          NaN  NaN   \n",
       "25756  ...     NaN                    NaN  NaN          NaN  NaN   \n",
       "25757  ...     NaN                    NaN  NaN          NaN  NaN   \n",
       "25758  ...     NaN                    NaN  NaN          NaN  NaN   \n",
       "25759  ...     NaN                    NaN  NaN          NaN  NaN   \n",
       "\n",
       "      Case Number.1 Case Number.2 original order Unnamed: 22 Unnamed: 23  \n",
       "25755           NaN           NaN            NaN         NaN         NaN  \n",
       "25756           NaN           NaN            NaN         NaN         NaN  \n",
       "25757           NaN           NaN            NaN         NaN         NaN  \n",
       "25758           NaN           NaN            NaN         NaN         NaN  \n",
       "25759           NaN           NaN            NaN         NaN         NaN  \n",
       "\n",
       "[5 rows x 24 columns]"
      ]
     },
     "execution_count": 8,
     "metadata": {},
     "output_type": "execute_result"
    }
   ],
   "source": [
    "shark.tail() # print last 10 records"
   ]
  },
  {
   "cell_type": "code",
   "execution_count": 9,
   "metadata": {},
   "outputs": [
    {
     "data": {
      "text/plain": [
       "'This will drop all the records that have NULL values in the above four columns/variables'"
      ]
     },
     "execution_count": 9,
     "metadata": {},
     "output_type": "execute_result"
    }
   ],
   "source": [
    "shark = shark.dropna(subset=['Activity','Area','Country','Location']) \n",
    "'''This will drop all the records that have NULL values in the above four columns/variables'''"
   ]
  },
  {
   "cell_type": "code",
   "execution_count": 10,
   "metadata": {},
   "outputs": [
    {
     "data": {
      "text/html": [
       "<div>\n",
       "<style scoped>\n",
       "    .dataframe tbody tr th:only-of-type {\n",
       "        vertical-align: middle;\n",
       "    }\n",
       "\n",
       "    .dataframe tbody tr th {\n",
       "        vertical-align: top;\n",
       "    }\n",
       "\n",
       "    .dataframe thead th {\n",
       "        text-align: right;\n",
       "    }\n",
       "</style>\n",
       "<table border=\"1\" class=\"dataframe\">\n",
       "  <thead>\n",
       "    <tr style=\"text-align: right;\">\n",
       "      <th></th>\n",
       "      <th>Case Number</th>\n",
       "      <th>Date</th>\n",
       "      <th>Year</th>\n",
       "      <th>Type</th>\n",
       "      <th>Country</th>\n",
       "      <th>Area</th>\n",
       "      <th>Location</th>\n",
       "      <th>Activity</th>\n",
       "      <th>Name</th>\n",
       "      <th>Sex</th>\n",
       "      <th>...</th>\n",
       "      <th>Species</th>\n",
       "      <th>Investigator or Source</th>\n",
       "      <th>pdf</th>\n",
       "      <th>href formula</th>\n",
       "      <th>href</th>\n",
       "      <th>Case Number.1</th>\n",
       "      <th>Case Number.2</th>\n",
       "      <th>original order</th>\n",
       "      <th>Unnamed: 22</th>\n",
       "      <th>Unnamed: 23</th>\n",
       "    </tr>\n",
       "  </thead>\n",
       "  <tbody>\n",
       "    <tr>\n",
       "      <th>0</th>\n",
       "      <td>2019.08.27</td>\n",
       "      <td>27-Aug-2019</td>\n",
       "      <td>2019.0</td>\n",
       "      <td>Provoked</td>\n",
       "      <td>USA</td>\n",
       "      <td>Florida</td>\n",
       "      <td>New Smyrna Beach, Volusia County</td>\n",
       "      <td>Surfing</td>\n",
       "      <td>Donald Walsh</td>\n",
       "      <td>M</td>\n",
       "      <td>...</td>\n",
       "      <td>6.5' shark</td>\n",
       "      <td>K. McMurray, TrackingSharks.com</td>\n",
       "      <td>2019.08.27-Walsh.pdf</td>\n",
       "      <td>http://sharkattackfile.net/spreadsheets/pdf_di...</td>\n",
       "      <td>http://sharkattackfile.net/spreadsheets/pdf_di...</td>\n",
       "      <td>2019.08.27</td>\n",
       "      <td>2019.08.27</td>\n",
       "      <td>6452.0</td>\n",
       "      <td>NaN</td>\n",
       "      <td>NaN</td>\n",
       "    </tr>\n",
       "    <tr>\n",
       "      <th>1</th>\n",
       "      <td>2019.08.21</td>\n",
       "      <td>21-Aug-2019</td>\n",
       "      <td>2019.0</td>\n",
       "      <td>Unprovoked</td>\n",
       "      <td>USA</td>\n",
       "      <td>Florida</td>\n",
       "      <td>Fort Lauderdale, Broward County</td>\n",
       "      <td>Wading</td>\n",
       "      <td>Christian Mariani</td>\n",
       "      <td>M</td>\n",
       "      <td>...</td>\n",
       "      <td>NaN</td>\n",
       "      <td>K. McMurray, TrackingSharks.com</td>\n",
       "      <td>2019.08.21-Mariani.pdf</td>\n",
       "      <td>http://sharkattackfile.net/spreadsheets/pdf_di...</td>\n",
       "      <td>http://sharkattackfile.net/spreadsheets/pdf_di...</td>\n",
       "      <td>2019.08.21</td>\n",
       "      <td>2019.08.21</td>\n",
       "      <td>6451.0</td>\n",
       "      <td>NaN</td>\n",
       "      <td>NaN</td>\n",
       "    </tr>\n",
       "    <tr>\n",
       "      <th>2</th>\n",
       "      <td>2019.08.20</td>\n",
       "      <td>20-Aug-2019</td>\n",
       "      <td>2019.0</td>\n",
       "      <td>Unprovoked</td>\n",
       "      <td>USA</td>\n",
       "      <td>Hawaii</td>\n",
       "      <td>Napoopoo Park in Kealakekua Bay, The Big Island</td>\n",
       "      <td>Swimming</td>\n",
       "      <td>female</td>\n",
       "      <td>F</td>\n",
       "      <td>...</td>\n",
       "      <td>NaN</td>\n",
       "      <td>Hawaii News Now, 8/20/2019</td>\n",
       "      <td>2019.08.20-Hawaii.pdf</td>\n",
       "      <td>http://sharkattackfile.net/spreadsheets/pdf_di...</td>\n",
       "      <td>http://sharkattackfile.net/spreadsheets/pdf_di...</td>\n",
       "      <td>2019.08.20</td>\n",
       "      <td>2019.08.20</td>\n",
       "      <td>6450.0</td>\n",
       "      <td>NaN</td>\n",
       "      <td>NaN</td>\n",
       "    </tr>\n",
       "    <tr>\n",
       "      <th>3</th>\n",
       "      <td>2019.08.16</td>\n",
       "      <td>16-Aug-2019</td>\n",
       "      <td>2019.0</td>\n",
       "      <td>Unprovoked</td>\n",
       "      <td>USA</td>\n",
       "      <td>Florida</td>\n",
       "      <td>New Smyrna Beach, Volusia County</td>\n",
       "      <td>Wading</td>\n",
       "      <td>Maggie Crum</td>\n",
       "      <td>M</td>\n",
       "      <td>...</td>\n",
       "      <td>NaN</td>\n",
       "      <td>WESH, 8/16/2019</td>\n",
       "      <td>2019.08.16-Crum.pdf</td>\n",
       "      <td>http://sharkattackfile.net/spreadsheets/pdf_di...</td>\n",
       "      <td>http://sharkattackfile.net/spreadsheets/pdf_di...</td>\n",
       "      <td>2019.08.16</td>\n",
       "      <td>2019.08.16</td>\n",
       "      <td>6449.0</td>\n",
       "      <td>NaN</td>\n",
       "      <td>NaN</td>\n",
       "    </tr>\n",
       "    <tr>\n",
       "      <th>4</th>\n",
       "      <td>2019.08.11</td>\n",
       "      <td>11-Aug-2019</td>\n",
       "      <td>2019.0</td>\n",
       "      <td>Unprovoked</td>\n",
       "      <td>USA</td>\n",
       "      <td>Hawaii</td>\n",
       "      <td>Makaha Beach, Oahu</td>\n",
       "      <td>Surfing</td>\n",
       "      <td>Max Keliikipi</td>\n",
       "      <td>M</td>\n",
       "      <td>...</td>\n",
       "      <td>10' to 12' shark</td>\n",
       "      <td>M. Michaelson, GSAF</td>\n",
       "      <td>2019.08.11-Keliikipi.pdf</td>\n",
       "      <td>http://sharkattackfile.net/spreadsheets/pdf_di...</td>\n",
       "      <td>http://sharkattackfile.net/spreadsheets/pdf_di...</td>\n",
       "      <td>2019.08.11</td>\n",
       "      <td>2019.08.11</td>\n",
       "      <td>6448.0</td>\n",
       "      <td>NaN</td>\n",
       "      <td>NaN</td>\n",
       "    </tr>\n",
       "  </tbody>\n",
       "</table>\n",
       "<p>5 rows × 24 columns</p>\n",
       "</div>"
      ],
      "text/plain": [
       "  Case Number         Date    Year        Type Country     Area  \\\n",
       "0  2019.08.27  27-Aug-2019  2019.0    Provoked     USA  Florida   \n",
       "1  2019.08.21  21-Aug-2019  2019.0  Unprovoked     USA  Florida   \n",
       "2  2019.08.20  20-Aug-2019  2019.0  Unprovoked     USA   Hawaii   \n",
       "3  2019.08.16  16-Aug-2019  2019.0  Unprovoked     USA  Florida   \n",
       "4  2019.08.11  11-Aug-2019  2019.0  Unprovoked     USA   Hawaii   \n",
       "\n",
       "                                          Location  Activity  \\\n",
       "0                 New Smyrna Beach, Volusia County   Surfing   \n",
       "1                  Fort Lauderdale, Broward County    Wading   \n",
       "2  Napoopoo Park in Kealakekua Bay, The Big Island  Swimming   \n",
       "3                 New Smyrna Beach, Volusia County    Wading   \n",
       "4                               Makaha Beach, Oahu   Surfing   \n",
       "\n",
       "                 Name Sex  ...           Species  \\\n",
       "0        Donald Walsh   M  ...        6.5' shark   \n",
       "1  Christian Mariani    M  ...               NaN   \n",
       "2              female   F  ...               NaN   \n",
       "3         Maggie Crum   M  ...               NaN   \n",
       "4      Max Keliikipi    M  ...  10' to 12' shark   \n",
       "\n",
       "            Investigator or Source                       pdf  \\\n",
       "0  K. McMurray, TrackingSharks.com      2019.08.27-Walsh.pdf   \n",
       "1  K. McMurray, TrackingSharks.com    2019.08.21-Mariani.pdf   \n",
       "2       Hawaii News Now, 8/20/2019     2019.08.20-Hawaii.pdf   \n",
       "3                  WESH, 8/16/2019       2019.08.16-Crum.pdf   \n",
       "4              M. Michaelson, GSAF  2019.08.11-Keliikipi.pdf   \n",
       "\n",
       "                                        href formula  \\\n",
       "0  http://sharkattackfile.net/spreadsheets/pdf_di...   \n",
       "1  http://sharkattackfile.net/spreadsheets/pdf_di...   \n",
       "2  http://sharkattackfile.net/spreadsheets/pdf_di...   \n",
       "3  http://sharkattackfile.net/spreadsheets/pdf_di...   \n",
       "4  http://sharkattackfile.net/spreadsheets/pdf_di...   \n",
       "\n",
       "                                                href Case Number.1  \\\n",
       "0  http://sharkattackfile.net/spreadsheets/pdf_di...    2019.08.27   \n",
       "1  http://sharkattackfile.net/spreadsheets/pdf_di...    2019.08.21   \n",
       "2  http://sharkattackfile.net/spreadsheets/pdf_di...    2019.08.20   \n",
       "3  http://sharkattackfile.net/spreadsheets/pdf_di...    2019.08.16   \n",
       "4  http://sharkattackfile.net/spreadsheets/pdf_di...    2019.08.11   \n",
       "\n",
       "  Case Number.2 original order Unnamed: 22 Unnamed: 23  \n",
       "0    2019.08.27         6452.0         NaN         NaN  \n",
       "1    2019.08.21         6451.0         NaN         NaN  \n",
       "2    2019.08.20         6450.0         NaN         NaN  \n",
       "3    2019.08.16         6449.0         NaN         NaN  \n",
       "4    2019.08.11         6448.0         NaN         NaN  \n",
       "\n",
       "[5 rows x 24 columns]"
      ]
     },
     "execution_count": 10,
     "metadata": {},
     "output_type": "execute_result"
    }
   ],
   "source": [
    "shark.head()"
   ]
  },
  {
   "cell_type": "code",
   "execution_count": 11,
   "metadata": {
    "scrolled": true
   },
   "outputs": [
    {
     "data": {
      "text/html": [
       "<div>\n",
       "<style scoped>\n",
       "    .dataframe tbody tr th:only-of-type {\n",
       "        vertical-align: middle;\n",
       "    }\n",
       "\n",
       "    .dataframe tbody tr th {\n",
       "        vertical-align: top;\n",
       "    }\n",
       "\n",
       "    .dataframe thead th {\n",
       "        text-align: right;\n",
       "    }\n",
       "</style>\n",
       "<table border=\"1\" class=\"dataframe\">\n",
       "  <thead>\n",
       "    <tr style=\"text-align: right;\">\n",
       "      <th></th>\n",
       "      <th>Case Number</th>\n",
       "      <th>Date</th>\n",
       "      <th>Year</th>\n",
       "      <th>Type</th>\n",
       "      <th>Country</th>\n",
       "      <th>Area</th>\n",
       "      <th>Location</th>\n",
       "      <th>Activity</th>\n",
       "      <th>Name</th>\n",
       "      <th>Sex</th>\n",
       "      <th>...</th>\n",
       "      <th>Species</th>\n",
       "      <th>Investigator or Source</th>\n",
       "      <th>pdf</th>\n",
       "      <th>href formula</th>\n",
       "      <th>href</th>\n",
       "      <th>Case Number.1</th>\n",
       "      <th>Case Number.2</th>\n",
       "      <th>original order</th>\n",
       "      <th>Unnamed: 22</th>\n",
       "      <th>Unnamed: 23</th>\n",
       "    </tr>\n",
       "  </thead>\n",
       "  <tbody>\n",
       "    <tr>\n",
       "      <th>6443</th>\n",
       "      <td>ND.0006</td>\n",
       "      <td>Before 1906</td>\n",
       "      <td>0.0</td>\n",
       "      <td>Unprovoked</td>\n",
       "      <td>AUSTRALIA</td>\n",
       "      <td>New South Wales</td>\n",
       "      <td></td>\n",
       "      <td>Swimming</td>\n",
       "      <td>Arab boy</td>\n",
       "      <td>M</td>\n",
       "      <td>...</td>\n",
       "      <td>Said to involve a grey nurse shark that leapt ...</td>\n",
       "      <td>L. Becke in New York Sun, 9/9/1906; L. Schultz...</td>\n",
       "      <td>ND-0006-ArabBoy-Prymount.pdf</td>\n",
       "      <td>http://sharkattackfile.net/spreadsheets/pdf_di...</td>\n",
       "      <td>http://sharkattackfile.net/spreadsheets/pdf_di...</td>\n",
       "      <td>ND.0006</td>\n",
       "      <td>ND.0006</td>\n",
       "      <td>7.0</td>\n",
       "      <td>NaN</td>\n",
       "      <td>NaN</td>\n",
       "    </tr>\n",
       "    <tr>\n",
       "      <th>6444</th>\n",
       "      <td>ND.0005</td>\n",
       "      <td>Before 1903</td>\n",
       "      <td>0.0</td>\n",
       "      <td>Unprovoked</td>\n",
       "      <td>AUSTRALIA</td>\n",
       "      <td>Western Australia</td>\n",
       "      <td>Roebuck Bay</td>\n",
       "      <td>Diving</td>\n",
       "      <td>male</td>\n",
       "      <td>M</td>\n",
       "      <td>...</td>\n",
       "      <td>NaN</td>\n",
       "      <td>H. Taunton; N. Bartlett,  p. 234</td>\n",
       "      <td>ND-0005-RoebuckBay.pdf</td>\n",
       "      <td>http://sharkattackfile.net/spreadsheets/pdf_di...</td>\n",
       "      <td>http://sharkattackfile.net/spreadsheets/pdf_di...</td>\n",
       "      <td>ND.0005</td>\n",
       "      <td>ND.0005</td>\n",
       "      <td>6.0</td>\n",
       "      <td>NaN</td>\n",
       "      <td>NaN</td>\n",
       "    </tr>\n",
       "    <tr>\n",
       "      <th>6446</th>\n",
       "      <td>ND.0003</td>\n",
       "      <td>1900-1905</td>\n",
       "      <td>0.0</td>\n",
       "      <td>Unprovoked</td>\n",
       "      <td>USA</td>\n",
       "      <td>North Carolina</td>\n",
       "      <td>Ocracoke Inlet</td>\n",
       "      <td>Swimming</td>\n",
       "      <td>Coast Guard personnel</td>\n",
       "      <td>M</td>\n",
       "      <td>...</td>\n",
       "      <td>NaN</td>\n",
       "      <td>F. Schwartz, p.23; C. Creswell, GSAF</td>\n",
       "      <td>ND-0003-Ocracoke_1900-1905.pdf</td>\n",
       "      <td>http://sharkattackfile.net/spreadsheets/pdf_di...</td>\n",
       "      <td>http://sharkattackfile.net/spreadsheets/pdf_di...</td>\n",
       "      <td>ND.0003</td>\n",
       "      <td>ND.0003</td>\n",
       "      <td>4.0</td>\n",
       "      <td>NaN</td>\n",
       "      <td>NaN</td>\n",
       "    </tr>\n",
       "    <tr>\n",
       "      <th>6448</th>\n",
       "      <td>ND.0001</td>\n",
       "      <td>1845-1853</td>\n",
       "      <td>0.0</td>\n",
       "      <td>Unprovoked</td>\n",
       "      <td>CEYLON (SRI LANKA)</td>\n",
       "      <td>Eastern Province</td>\n",
       "      <td>Below the English fort, Trincomalee</td>\n",
       "      <td>Swimming</td>\n",
       "      <td>male</td>\n",
       "      <td>M</td>\n",
       "      <td>...</td>\n",
       "      <td>NaN</td>\n",
       "      <td>S.W. Baker</td>\n",
       "      <td>ND-0001-Ceylon.pdf</td>\n",
       "      <td>http://sharkattackfile.net/spreadsheets/pdf_di...</td>\n",
       "      <td>http://sharkattackfile.net/spreadsheets/pdf_di...</td>\n",
       "      <td>ND.0001</td>\n",
       "      <td>ND.0001</td>\n",
       "      <td>2.0</td>\n",
       "      <td>NaN</td>\n",
       "      <td>NaN</td>\n",
       "    </tr>\n",
       "    <tr>\n",
       "      <th>6450</th>\n",
       "      <td>1836.08.19.R</td>\n",
       "      <td>Reported 19-Aug-1836</td>\n",
       "      <td>NaN</td>\n",
       "      <td>Unprovoked</td>\n",
       "      <td>ENGLAND</td>\n",
       "      <td>Cumberland</td>\n",
       "      <td>Whitehaven</td>\n",
       "      <td>Swimming</td>\n",
       "      <td>a boy</td>\n",
       "      <td>M</td>\n",
       "      <td>...</td>\n",
       "      <td>NaN</td>\n",
       "      <td>C. Moore, GSAF</td>\n",
       "      <td>1835.08.19.R-Whitehaven.pdf</td>\n",
       "      <td>http://sharkattackfile.net/spreadsheets/pdf_di...</td>\n",
       "      <td>http://sharkattackfile.net/spreadsheets/pdf_di...</td>\n",
       "      <td>1836.08.19.R</td>\n",
       "      <td>1836.08.19.R</td>\n",
       "      <td>223.0</td>\n",
       "      <td>NaN</td>\n",
       "      <td>NaN</td>\n",
       "    </tr>\n",
       "  </tbody>\n",
       "</table>\n",
       "<p>5 rows × 24 columns</p>\n",
       "</div>"
      ],
      "text/plain": [
       "       Case Number                  Date  Year        Type  \\\n",
       "6443       ND.0006           Before 1906   0.0  Unprovoked   \n",
       "6444       ND.0005           Before 1903   0.0  Unprovoked   \n",
       "6446       ND.0003             1900-1905   0.0  Unprovoked   \n",
       "6448       ND.0001             1845-1853   0.0  Unprovoked   \n",
       "6450  1836.08.19.R  Reported 19-Aug-1836   NaN  Unprovoked   \n",
       "\n",
       "                 Country               Area  \\\n",
       "6443           AUSTRALIA    New South Wales   \n",
       "6444           AUSTRALIA  Western Australia   \n",
       "6446                 USA     North Carolina   \n",
       "6448  CEYLON (SRI LANKA)   Eastern Province   \n",
       "6450             ENGLAND         Cumberland   \n",
       "\n",
       "                                 Location  Activity                   Name  \\\n",
       "6443                                       Swimming               Arab boy   \n",
       "6444                          Roebuck Bay    Diving                   male   \n",
       "6446                       Ocracoke Inlet  Swimming  Coast Guard personnel   \n",
       "6448  Below the English fort, Trincomalee  Swimming                   male   \n",
       "6450                           Whitehaven  Swimming                  a boy   \n",
       "\n",
       "     Sex  ...                                            Species  \\\n",
       "6443   M  ...  Said to involve a grey nurse shark that leapt ...   \n",
       "6444   M  ...                                                NaN   \n",
       "6446   M  ...                                                NaN   \n",
       "6448   M  ...                                                NaN   \n",
       "6450   M  ...                                                NaN   \n",
       "\n",
       "                                 Investigator or Source  \\\n",
       "6443  L. Becke in New York Sun, 9/9/1906; L. Schultz...   \n",
       "6444                   H. Taunton; N. Bartlett,  p. 234   \n",
       "6446               F. Schwartz, p.23; C. Creswell, GSAF   \n",
       "6448                                         S.W. Baker   \n",
       "6450                                     C. Moore, GSAF   \n",
       "\n",
       "                                 pdf  \\\n",
       "6443    ND-0006-ArabBoy-Prymount.pdf   \n",
       "6444          ND-0005-RoebuckBay.pdf   \n",
       "6446  ND-0003-Ocracoke_1900-1905.pdf   \n",
       "6448              ND-0001-Ceylon.pdf   \n",
       "6450     1835.08.19.R-Whitehaven.pdf   \n",
       "\n",
       "                                           href formula  \\\n",
       "6443  http://sharkattackfile.net/spreadsheets/pdf_di...   \n",
       "6444  http://sharkattackfile.net/spreadsheets/pdf_di...   \n",
       "6446  http://sharkattackfile.net/spreadsheets/pdf_di...   \n",
       "6448  http://sharkattackfile.net/spreadsheets/pdf_di...   \n",
       "6450  http://sharkattackfile.net/spreadsheets/pdf_di...   \n",
       "\n",
       "                                                   href Case Number.1  \\\n",
       "6443  http://sharkattackfile.net/spreadsheets/pdf_di...       ND.0006   \n",
       "6444  http://sharkattackfile.net/spreadsheets/pdf_di...       ND.0005   \n",
       "6446  http://sharkattackfile.net/spreadsheets/pdf_di...       ND.0003   \n",
       "6448  http://sharkattackfile.net/spreadsheets/pdf_di...       ND.0001   \n",
       "6450  http://sharkattackfile.net/spreadsheets/pdf_di...  1836.08.19.R   \n",
       "\n",
       "     Case Number.2 original order Unnamed: 22 Unnamed: 23  \n",
       "6443       ND.0006            7.0         NaN         NaN  \n",
       "6444       ND.0005            6.0         NaN         NaN  \n",
       "6446       ND.0003            4.0         NaN         NaN  \n",
       "6448       ND.0001            2.0         NaN         NaN  \n",
       "6450  1836.08.19.R          223.0         NaN         NaN  \n",
       "\n",
       "[5 rows x 24 columns]"
      ]
     },
     "execution_count": 11,
     "metadata": {},
     "output_type": "execute_result"
    }
   ],
   "source": [
    "shark.tail()"
   ]
  },
  {
   "cell_type": "code",
   "execution_count": 12,
   "metadata": {},
   "outputs": [
    {
     "name": "stdout",
     "output_type": "stream",
     "text": [
      "<class 'pandas.core.frame.DataFrame'>\n",
      "Int64Index: 5243 entries, 0 to 6450\n",
      "Data columns (total 24 columns):\n",
      "Case Number               5242 non-null object\n",
      "Date                      5243 non-null object\n",
      "Year                      5242 non-null float64\n",
      "Type                      5241 non-null object\n",
      "Country                   5243 non-null object\n",
      "Area                      5243 non-null object\n",
      "Location                  5243 non-null object\n",
      "Activity                  5243 non-null object\n",
      "Name                      5144 non-null object\n",
      "Sex                       4903 non-null object\n",
      "Age                       3249 non-null object\n",
      "Injury                    5233 non-null object\n",
      "Fatal (Y/N)               4877 non-null object\n",
      "Time                      2885 non-null object\n",
      "Species                   3085 non-null object\n",
      "Investigator or Source    5231 non-null object\n",
      "pdf                       5243 non-null object\n",
      "href formula              5242 non-null object\n",
      "href                      5243 non-null object\n",
      "Case Number.1             5243 non-null object\n",
      "Case Number.2             5243 non-null object\n",
      "original order            5243 non-null float64\n",
      "Unnamed: 22               1 non-null object\n",
      "Unnamed: 23               2 non-null object\n",
      "dtypes: float64(2), object(22)\n",
      "memory usage: 1.0+ MB\n"
     ]
    }
   ],
   "source": [
    "#data cleaning\n",
    "#last twenty years\n",
    "shark.info()\n",
    "# shark.groupby(\"Activity\").sum()"
   ]
  },
  {
   "cell_type": "code",
   "execution_count": 13,
   "metadata": {},
   "outputs": [
    {
     "data": {
      "text/plain": [
       "Case Number                  1\n",
       "Date                         0\n",
       "Year                         1\n",
       "Type                         2\n",
       "Country                      0\n",
       "Area                         0\n",
       "Location                     0\n",
       "Activity                     0\n",
       "Name                        99\n",
       "Sex                        340\n",
       "Age                       1994\n",
       "Injury                      10\n",
       "Fatal (Y/N)                366\n",
       "Time                      2358\n",
       "Species                   2158\n",
       "Investigator or Source      12\n",
       "pdf                          0\n",
       "href formula                 1\n",
       "href                         0\n",
       "Case Number.1                0\n",
       "Case Number.2                0\n",
       "original order               0\n",
       "Unnamed: 22               5242\n",
       "Unnamed: 23               5241\n",
       "dtype: int64"
      ]
     },
     "execution_count": 13,
     "metadata": {},
     "output_type": "execute_result"
    }
   ],
   "source": [
    "shark.isnull().sum()"
   ]
  },
  {
   "cell_type": "code",
   "execution_count": 14,
   "metadata": {},
   "outputs": [],
   "source": [
    "import numpy as np\n",
    "'''This will filter the data for 20 years and store it in a new variable for dataframe'''\n",
    "final_data = shark[np.logical_and(shark[\"Year\"]>1999, shark[\"Year\"]<2020)]  \n",
    "# final_data.isna().sum()\n",
    "# final_data.info()\n",
    "\n",
    "# to get us data\n",
    "us_data = final_data[final_data.Country == 'USA']\n",
    "final_data=us_data\n",
    "\n",
    "# final_data.Country.astype.String\n",
    "\n",
    "# data = final_data[final_data['Country'].str.contains('USA')]\n",
    "# print(data)\n",
    "# final_data[Year]"
   ]
  },
  {
   "cell_type": "code",
   "execution_count": 15,
   "metadata": {},
   "outputs": [
    {
     "name": "stdout",
     "output_type": "stream",
     "text": [
      "<class 'pandas.core.frame.DataFrame'>\n",
      "Int64Index: 1023 entries, 0 to 1022\n",
      "Data columns (total 28 columns):\n",
      "Case Number               1023 non-null object\n",
      "Date                      1023 non-null object\n",
      "Year                      1023 non-null float64\n",
      "Type                      1023 non-null object\n",
      "Country                   1023 non-null object\n",
      "Area                      1023 non-null object\n",
      "Location                  1023 non-null object\n",
      "Activity                  1023 non-null object\n",
      "Name                      1017 non-null object\n",
      "Sex                       1000 non-null object\n",
      "Age                       835 non-null object\n",
      "Injury                    1023 non-null object\n",
      "Fatal (Y/N)               970 non-null object\n",
      "Time                      862 non-null object\n",
      "Species                   646 non-null object\n",
      "Investigator or Source    1022 non-null object\n",
      "pdf                       1023 non-null object\n",
      "href formula              1023 non-null object\n",
      "href                      1023 non-null object\n",
      "Case Number.1             1023 non-null object\n",
      "Case Number.2             1023 non-null object\n",
      "original order            1023 non-null float64\n",
      "Unnamed: 22               1 non-null object\n",
      "Unnamed: 23               0 non-null object\n",
      "State                     1023 non-null object\n",
      "State Code                1023 non-null object\n",
      "Region                    1023 non-null object\n",
      "Division                  1023 non-null object\n",
      "dtypes: float64(2), object(26)\n",
      "memory usage: 231.8+ KB\n"
     ]
    }
   ],
   "source": [
    "\n",
    "new_us_data = pd.merge(us_data, region_mapping, left_on='Area', right_on='State')\n",
    "new_us_data.info()"
   ]
  },
  {
   "cell_type": "code",
   "execution_count": 16,
   "metadata": {},
   "outputs": [
    {
     "name": "stdout",
     "output_type": "stream",
     "text": [
      "Activity\n",
      "Surfing                                           393\n",
      "Swimming                                          154\n",
      "Wading                                             65\n",
      "Fishing                                            37\n",
      "Standing                                           32\n",
      "                                                 ... \n",
      "Surf paddling                                       1\n",
      "Surf-skiing                                         1\n",
      "Surfing / Wading                                    1\n",
      "Surfing, but standing in water alongside board      1\n",
      "Attempting to illegally enter the USA               1\n",
      "Length: 151, dtype: int64\n",
      "<class 'pandas.core.frame.DataFrame'>\n",
      "Int64Index: 1023 entries, 0 to 1022\n",
      "Data columns (total 28 columns):\n",
      "Case Number               1023 non-null object\n",
      "Date                      1023 non-null object\n",
      "Year                      1023 non-null float64\n",
      "Type                      1023 non-null object\n",
      "Country                   1023 non-null object\n",
      "Area                      1023 non-null object\n",
      "Location                  1023 non-null object\n",
      "Activity                  1023 non-null object\n",
      "Name                      1017 non-null object\n",
      "Sex                       1000 non-null object\n",
      "Age                       835 non-null object\n",
      "Injury                    1023 non-null object\n",
      "Fatal (Y/N)               970 non-null object\n",
      "Time                      862 non-null object\n",
      "Species                   646 non-null object\n",
      "Investigator or Source    1022 non-null object\n",
      "pdf                       1023 non-null object\n",
      "href formula              1023 non-null object\n",
      "href                      1023 non-null object\n",
      "Case Number.1             1023 non-null object\n",
      "Case Number.2             1023 non-null object\n",
      "original order            1023 non-null float64\n",
      "Unnamed: 22               1 non-null object\n",
      "Unnamed: 23               0 non-null object\n",
      "State                     1023 non-null object\n",
      "State Code                1023 non-null object\n",
      "Region                    1023 non-null object\n",
      "Division                  1023 non-null object\n",
      "dtypes: float64(2), object(26)\n",
      "memory usage: 231.8+ KB\n"
     ]
    }
   ],
   "source": [
    "print(new_us_data.groupby('Activity').size().sort_values(ascending=False))\n",
    "#dropping all the activity which is not given. We can discuss on this\n",
    "new_us_data = new_us_data.dropna(subset=['Activity'])\n",
    "new_us_data.info()"
   ]
  },
  {
   "cell_type": "code",
   "execution_count": 50,
   "metadata": {},
   "outputs": [],
   "source": [
    "# final_data[\"new_Activity\"] = final_data['Activity'].str.contains('swimming', regex=False)\n",
    "\n",
    "# activity_series = final_data['Activity']\n",
    "# activity_series\n",
    "# activity_series[activity_series.str.contains('swimming', regex=False)]\n",
    "\n",
    "import re\n",
    "import numpy as np\n",
    "# final_data.loc[final_data.Activity.str.contains('fishing',case=False, regex=True), 'Activity'] = 'xyz'\n",
    "\n",
    "fishing = 'fishing'\n",
    "surfing = 'surfing'\n",
    "swimming = 'swimming'\n",
    "wading = 'wading'\n",
    "others = 'others'\n",
    "def replace_activity(x):\n",
    "    \n",
    "    if fishing in x:\n",
    "        return \"Fishing\"\n",
    "    elif surfing in x:\n",
    "        return \"Surfing\"\n",
    "    elif swimming in x:\n",
    "        return \"Swimming\"\n",
    "    elif wading in x:\n",
    "        return \"Wading\"\n",
    "    else:\n",
    "        return \"Others\""
   ]
  },
  {
   "cell_type": "code",
   "execution_count": 51,
   "metadata": {},
   "outputs": [],
   "source": [
    "new_us_data['Activity_NewCol'] = new_us_data.apply(lambda x: replace_activity(x['Activity'].lower()), axis=1)"
   ]
  },
  {
   "cell_type": "code",
   "execution_count": 52,
   "metadata": {},
   "outputs": [
    {
     "data": {
      "text/plain": [
       "Activity_NewCol\n",
       "Surfing     430\n",
       "Others      247\n",
       "Swimming    175\n",
       "Fishing     103\n",
       "Wading       68\n",
       "dtype: int64"
      ]
     },
     "execution_count": 52,
     "metadata": {},
     "output_type": "execute_result"
    }
   ],
   "source": [
    "new_us_data.groupby('Activity_NewCol').size().sort_values(ascending=False)"
   ]
  },
  {
   "cell_type": "code",
   "execution_count": 53,
   "metadata": {},
   "outputs": [
    {
     "name": "stdout",
     "output_type": "stream",
     "text": [
      "Activity_NewCol\n",
      "Fishing     103\n",
      "Others      247\n",
      "Surfing     430\n",
      "Swimming    175\n",
      "Wading       68\n",
      "dtype: int64\n"
     ]
    },
    {
     "data": {
      "image/png": "[encoded data removed]",
      "text/plain": [
       "<Figure size 1080x360 with 1 Axes>"
      ]
     },
     "metadata": {
      "needs_background": "light"
     },
     "output_type": "display_data"
    }
   ],
   "source": [
    "###### Write your code here\n",
    "import seaborn as sns\n",
    "import matplotlib.pyplot as plt\n",
    "act=print(new_us_data.groupby(\"Activity_NewCol\").size())\n",
    "plt.figure(figsize=(15,5))\n",
    "sns.countplot(x=\"Activity_NewCol\",data=new_us_data)\n",
    "plt.show()"
   ]
  },
  {
   "cell_type": "code",
   "execution_count": 54,
   "metadata": {},
   "outputs": [],
   "source": [
    "dt=new_us_data[new_us_data.Region == 'South']\n",
    "dt=(dt[dt.Activity_NewCol== 'Surfing'])\n",
    "Surfing=[]\n",
    "Surfing.append(dt.Activity_NewCol.count())"
   ]
  },
  {
   "cell_type": "code",
   "execution_count": 55,
   "metadata": {},
   "outputs": [],
   "source": [
    "dt=new_us_data[new_us_data.Region == 'West']\n",
    "dt=(dt[dt.Activity_NewCol== 'Surfing'])\n",
    "Surfing.append(dt.Activity_NewCol.count())"
   ]
  },
  {
   "cell_type": "code",
   "execution_count": 56,
   "metadata": {},
   "outputs": [],
   "source": [
    "dt=new_us_data[new_us_data.Region == 'Northeast']\n",
    "dt=(dt[dt.Activity_NewCol== 'Surfing'])\n",
    "Surfing.append(dt.Activity_NewCol.count())"
   ]
  },
  {
   "cell_type": "code",
   "execution_count": 57,
   "metadata": {},
   "outputs": [
    {
     "data": {
      "text/plain": [
       "[302, 123, 5]"
      ]
     },
     "execution_count": 57,
     "metadata": {},
     "output_type": "execute_result"
    }
   ],
   "source": [
    "Surfing"
   ]
  },
  {
   "cell_type": "code",
   "execution_count": 58,
   "metadata": {},
   "outputs": [],
   "source": [
    "dt=new_us_data[new_us_data.Region == 'South']\n",
    "dt=(dt[dt.Activity_NewCol== 'Others'])\n",
    "Others=[]\n",
    "Others.append(dt.Activity_NewCol.count())"
   ]
  },
  {
   "cell_type": "code",
   "execution_count": 59,
   "metadata": {},
   "outputs": [],
   "source": [
    "dt=new_us_data[new_us_data.Region == 'West']\n",
    "dt=(dt[dt.Activity_NewCol== 'Others'])\n",
    "Others.append(dt.Activity_NewCol.count())"
   ]
  },
  {
   "cell_type": "code",
   "execution_count": 60,
   "metadata": {},
   "outputs": [],
   "source": [
    "dt=new_us_data[new_us_data.Region == 'Northeast']\n",
    "dt=(dt[dt.Activity_NewCol== 'Others'])\n",
    "Others.append(dt.Activity_NewCol.count())"
   ]
  },
  {
   "cell_type": "code",
   "execution_count": 61,
   "metadata": {},
   "outputs": [
    {
     "data": {
      "text/plain": [
       "[155, 84, 8]"
      ]
     },
     "execution_count": 61,
     "metadata": {},
     "output_type": "execute_result"
    }
   ],
   "source": [
    "Others"
   ]
  },
  {
   "cell_type": "code",
   "execution_count": 62,
   "metadata": {},
   "outputs": [],
   "source": [
    "dt=new_us_data[new_us_data.Region == 'South']\n",
    "dt=(dt[dt.Activity_NewCol== 'Swimming'])\n",
    "Swimming=[]\n",
    "Swimming.append(dt.Activity_NewCol.count())"
   ]
  },
  {
   "cell_type": "code",
   "execution_count": 63,
   "metadata": {},
   "outputs": [],
   "source": [
    "dt=new_us_data[new_us_data.Region == 'West']\n",
    "dt=(dt[dt.Activity_NewCol== 'Swimming'])\n",
    "Swimming.append(dt.Activity_NewCol.count())"
   ]
  },
  {
   "cell_type": "code",
   "execution_count": 64,
   "metadata": {},
   "outputs": [],
   "source": [
    "dt=new_us_data[new_us_data.Region == 'Northeast']\n",
    "dt=(dt[dt.Activity_NewCol== 'Swimming'])\n",
    "Swimming.append(dt.Activity_NewCol.count())"
   ]
  },
  {
   "cell_type": "code",
   "execution_count": 65,
   "metadata": {},
   "outputs": [
    {
     "data": {
      "text/plain": [
       "[141, 33, 1]"
      ]
     },
     "execution_count": 65,
     "metadata": {},
     "output_type": "execute_result"
    }
   ],
   "source": [
    "Swimming"
   ]
  },
  {
   "cell_type": "code",
   "execution_count": 66,
   "metadata": {},
   "outputs": [],
   "source": [
    "dt=new_us_data[new_us_data.Region == 'South']\n",
    "dt=(dt[dt.Activity_NewCol== 'Fishing'])\n",
    "Fishing=[]\n",
    "Fishing.append(dt.Activity_NewCol.count())"
   ]
  },
  {
   "cell_type": "code",
   "execution_count": 67,
   "metadata": {},
   "outputs": [],
   "source": [
    "dt=new_us_data[new_us_data.Region == 'West']\n",
    "dt=(dt[dt.Activity_NewCol== 'Fishing'])\n",
    "Fishing.append(dt.Activity_NewCol.count())"
   ]
  },
  {
   "cell_type": "code",
   "execution_count": 68,
   "metadata": {},
   "outputs": [],
   "source": [
    "dt=new_us_data[new_us_data.Region == 'Northeast']\n",
    "dt=(dt[dt.Activity_NewCol== 'Fishing'])\n",
    "Fishing.append(dt.Activity_NewCol.count())"
   ]
  },
  {
   "cell_type": "code",
   "execution_count": 69,
   "metadata": {},
   "outputs": [
    {
     "data": {
      "text/plain": [
       "[66, 32, 5]"
      ]
     },
     "execution_count": 69,
     "metadata": {},
     "output_type": "execute_result"
    }
   ],
   "source": [
    "Fishing"
   ]
  },
  {
   "cell_type": "code",
   "execution_count": 70,
   "metadata": {},
   "outputs": [
    {
     "data": {
      "text/html": [
       "<div>\n",
       "<style scoped>\n",
       "    .dataframe tbody tr th:only-of-type {\n",
       "        vertical-align: middle;\n",
       "    }\n",
       "\n",
       "    .dataframe tbody tr th {\n",
       "        vertical-align: top;\n",
       "    }\n",
       "\n",
       "    .dataframe thead th {\n",
       "        text-align: right;\n",
       "    }\n",
       "</style>\n",
       "<table border=\"1\" class=\"dataframe\">\n",
       "  <thead>\n",
       "    <tr style=\"text-align: right;\">\n",
       "      <th></th>\n",
       "      <th>Case Number</th>\n",
       "      <th>Date</th>\n",
       "      <th>Year</th>\n",
       "      <th>Type</th>\n",
       "      <th>Country</th>\n",
       "      <th>Area</th>\n",
       "      <th>Location</th>\n",
       "      <th>Activity</th>\n",
       "      <th>Name</th>\n",
       "      <th>Sex</th>\n",
       "      <th>...</th>\n",
       "      <th>Case Number.1</th>\n",
       "      <th>Case Number.2</th>\n",
       "      <th>original order</th>\n",
       "      <th>Unnamed: 22</th>\n",
       "      <th>Unnamed: 23</th>\n",
       "      <th>State</th>\n",
       "      <th>State Code</th>\n",
       "      <th>Region</th>\n",
       "      <th>Division</th>\n",
       "      <th>Activity_NewCol</th>\n",
       "    </tr>\n",
       "  </thead>\n",
       "  <tbody>\n",
       "    <tr>\n",
       "      <th>749</th>\n",
       "      <td>2011.07.25</td>\n",
       "      <td>25-Jul-2011</td>\n",
       "      <td>2011.0</td>\n",
       "      <td>Unprovoked</td>\n",
       "      <td>USA</td>\n",
       "      <td>New Jersey</td>\n",
       "      <td>Egg Harbor, Atlantic County</td>\n",
       "      <td>Wade Fishing</td>\n",
       "      <td>Eric Aubrey</td>\n",
       "      <td>M</td>\n",
       "      <td>...</td>\n",
       "      <td>2011.07.25</td>\n",
       "      <td>2011.07.25</td>\n",
       "      <td>5420.0</td>\n",
       "      <td>NaN</td>\n",
       "      <td>NaN</td>\n",
       "      <td>New Jersey</td>\n",
       "      <td>NJ</td>\n",
       "      <td>Northeast</td>\n",
       "      <td>Middle Atlantic</td>\n",
       "      <td>Fishing</td>\n",
       "    </tr>\n",
       "    <tr>\n",
       "      <th>888</th>\n",
       "      <td>2017.08.03</td>\n",
       "      <td>03-Aug-2017</td>\n",
       "      <td>2017.0</td>\n",
       "      <td>Provoked</td>\n",
       "      <td>USA</td>\n",
       "      <td>Massachusetts</td>\n",
       "      <td>Menauhant Beach, Falmouth,\\nBarnstable County</td>\n",
       "      <td>Fishing</td>\n",
       "      <td>male</td>\n",
       "      <td>M</td>\n",
       "      <td>...</td>\n",
       "      <td>2017.08.03</td>\n",
       "      <td>2017.08.03</td>\n",
       "      <td>6211.0</td>\n",
       "      <td>NaN</td>\n",
       "      <td>NaN</td>\n",
       "      <td>Massachusetts</td>\n",
       "      <td>MA</td>\n",
       "      <td>Northeast</td>\n",
       "      <td>New England</td>\n",
       "      <td>Fishing</td>\n",
       "    </tr>\n",
       "    <tr>\n",
       "      <th>889</th>\n",
       "      <td>2016.07.07.b</td>\n",
       "      <td>07-Jul-2016</td>\n",
       "      <td>2016.0</td>\n",
       "      <td>Provoked</td>\n",
       "      <td>USA</td>\n",
       "      <td>Massachusetts</td>\n",
       "      <td>Off Gloucester, Essec County</td>\n",
       "      <td>Fishing</td>\n",
       "      <td>Roger Brissom</td>\n",
       "      <td>M</td>\n",
       "      <td>...</td>\n",
       "      <td>2016.07.07.b</td>\n",
       "      <td>2016.07.07.b</td>\n",
       "      <td>6062.0</td>\n",
       "      <td>NaN</td>\n",
       "      <td>NaN</td>\n",
       "      <td>Massachusetts</td>\n",
       "      <td>MA</td>\n",
       "      <td>Northeast</td>\n",
       "      <td>New England</td>\n",
       "      <td>Fishing</td>\n",
       "    </tr>\n",
       "    <tr>\n",
       "      <th>892</th>\n",
       "      <td>2001.07.21</td>\n",
       "      <td>21-Jul-2001</td>\n",
       "      <td>2001.0</td>\n",
       "      <td>Watercraft</td>\n",
       "      <td>USA</td>\n",
       "      <td>Massachusetts</td>\n",
       "      <td>Chatham Island</td>\n",
       "      <td>Fishing</td>\n",
       "      <td>boat, occupants: Joseph Fitzback &amp; 6 passengers</td>\n",
       "      <td>NaN</td>\n",
       "      <td>...</td>\n",
       "      <td>2001.07.21</td>\n",
       "      <td>2001.07.21</td>\n",
       "      <td>4379.0</td>\n",
       "      <td>NaN</td>\n",
       "      <td>NaN</td>\n",
       "      <td>Massachusetts</td>\n",
       "      <td>MA</td>\n",
       "      <td>Northeast</td>\n",
       "      <td>New England</td>\n",
       "      <td>Fishing</td>\n",
       "    </tr>\n",
       "    <tr>\n",
       "      <th>929</th>\n",
       "      <td>2010.07.03</td>\n",
       "      <td>03-Jul-2010</td>\n",
       "      <td>2010.0</td>\n",
       "      <td>Provoked</td>\n",
       "      <td>USA</td>\n",
       "      <td>New York</td>\n",
       "      <td>Off Long Island</td>\n",
       "      <td>Fishing</td>\n",
       "      <td>Frank Joseph</td>\n",
       "      <td>M</td>\n",
       "      <td>...</td>\n",
       "      <td>2010.07.03</td>\n",
       "      <td>2010.07.03</td>\n",
       "      <td>5297.0</td>\n",
       "      <td>NaN</td>\n",
       "      <td>NaN</td>\n",
       "      <td>New York</td>\n",
       "      <td>NY</td>\n",
       "      <td>Northeast</td>\n",
       "      <td>Middle Atlantic</td>\n",
       "      <td>Fishing</td>\n",
       "    </tr>\n",
       "  </tbody>\n",
       "</table>\n",
       "<p>5 rows × 29 columns</p>\n",
       "</div>"
      ],
      "text/plain": [
       "      Case Number         Date    Year        Type Country           Area  \\\n",
       "749    2011.07.25  25-Jul-2011  2011.0  Unprovoked     USA     New Jersey   \n",
       "888    2017.08.03  03-Aug-2017  2017.0    Provoked     USA  Massachusetts   \n",
       "889  2016.07.07.b  07-Jul-2016  2016.0    Provoked     USA  Massachusetts   \n",
       "892    2001.07.21  21-Jul-2001  2001.0  Watercraft     USA  Massachusetts   \n",
       "929    2010.07.03  03-Jul-2010  2010.0    Provoked     USA       New York   \n",
       "\n",
       "                                          Location      Activity  \\\n",
       "749                    Egg Harbor, Atlantic County  Wade Fishing   \n",
       "888  Menauhant Beach, Falmouth,\\nBarnstable County       Fishing   \n",
       "889                   Off Gloucester, Essec County       Fishing   \n",
       "892                                 Chatham Island       Fishing   \n",
       "929                                Off Long Island       Fishing   \n",
       "\n",
       "                                                Name  Sex  ... Case Number.1  \\\n",
       "749                                      Eric Aubrey    M  ...    2011.07.25   \n",
       "888                                             male    M  ...    2017.08.03   \n",
       "889                                    Roger Brissom    M  ...  2016.07.07.b   \n",
       "892  boat, occupants: Joseph Fitzback & 6 passengers  NaN  ...    2001.07.21   \n",
       "929                                     Frank Joseph    M  ...    2010.07.03   \n",
       "\n",
       "    Case Number.2 original order Unnamed: 22 Unnamed: 23          State  \\\n",
       "749    2011.07.25         5420.0         NaN         NaN     New Jersey   \n",
       "888    2017.08.03         6211.0         NaN         NaN  Massachusetts   \n",
       "889  2016.07.07.b         6062.0         NaN         NaN  Massachusetts   \n",
       "892    2001.07.21         4379.0         NaN         NaN  Massachusetts   \n",
       "929    2010.07.03         5297.0         NaN         NaN       New York   \n",
       "\n",
       "    State Code     Region         Division Activity_NewCol  \n",
       "749         NJ  Northeast  Middle Atlantic         Fishing  \n",
       "888         MA  Northeast      New England         Fishing  \n",
       "889         MA  Northeast      New England         Fishing  \n",
       "892         MA  Northeast      New England         Fishing  \n",
       "929         NY  Northeast  Middle Atlantic         Fishing  \n",
       "\n",
       "[5 rows x 29 columns]"
      ]
     },
     "execution_count": 70,
     "metadata": {},
     "output_type": "execute_result"
    }
   ],
   "source": [
    "dt.head(20)"
   ]
  },
  {
   "cell_type": "code",
   "execution_count": 71,
   "metadata": {},
   "outputs": [],
   "source": [
    "dt=new_us_data[new_us_data.Region == 'South']\n",
    "dt=(dt[dt.Activity_NewCol== 'Wading'])\n",
    "Wading=[]\n",
    "Wading.append(dt.Activity_NewCol.count())"
   ]
  },
  {
   "cell_type": "code",
   "execution_count": 72,
   "metadata": {},
   "outputs": [],
   "source": [
    "dt=new_us_data[new_us_data.Region == 'West']\n",
    "dt=(dt[dt.Activity_NewCol== 'Wading'])\n",
    "Wading.append(dt.Activity_NewCol.count())"
   ]
  },
  {
   "cell_type": "code",
   "execution_count": 73,
   "metadata": {},
   "outputs": [],
   "source": [
    "dt=new_us_data[new_us_data.Region == 'Northeast']\n",
    "dt=(dt[dt.Activity_NewCol== 'Wading'])\n",
    "Wading.append(dt.Activity_NewCol.count())"
   ]
  },
  {
   "cell_type": "code",
   "execution_count": 74,
   "metadata": {},
   "outputs": [
    {
     "data": {
      "text/plain": [
       "[65, 2, 1]"
      ]
     },
     "execution_count": 74,
     "metadata": {},
     "output_type": "execute_result"
    }
   ],
   "source": [
    "Wading"
   ]
  },
  {
   "cell_type": "code",
   "execution_count": 75,
   "metadata": {},
   "outputs": [
    {
     "name": "stdout",
     "output_type": "stream",
     "text": [
      "[302, 123, 5]\n",
      "[141, 33, 1]\n",
      "[65, 2, 1]\n",
      "[66, 32, 5]\n",
      "[155, 84, 8]\n"
     ]
    }
   ],
   "source": [
    "print(Surfing)\n",
    "print(Swimming)\n",
    "print(Wading)\n",
    "print(Fishing)\n",
    "print(Others)"
   ]
  },
  {
   "cell_type": "code",
   "execution_count": 76,
   "metadata": {},
   "outputs": [
    {
     "data": {
      "image/png": "[encoded data removed]",
      "text/plain": [
       "<Figure size 720x720 with 1 Axes>"
      ]
     },
     "metadata": {
      "needs_background": "light"
     },
     "output_type": "display_data"
    }
   ],
   "source": [
    "plt.figure(figsize=(10,10))\n",
    "r = [0,1,2]\n",
    "names = ['South','West','NorthEast']\n",
    "barWidth = 1\n",
    "\n",
    "plt.bar(r, Surfing, color='blue', edgecolor='white', label=\"Surfing\",width=barWidth)\n",
    "plt.bar(r, Others, color='orange', edgecolor='white',width=barWidth,label=\"Others\")\n",
    "plt.bar(r, Swimming, color='purple', edgecolor='white',width=barWidth,label=\"Swimming\") \n",
    "\n",
    "plt.bar(r, Fishing, color='red', edgecolor='white',width=barWidth,label=\"Fishing\")\n",
    "\n",
    "plt.bar(r, Wading, color='green', edgecolor='white',width=barWidth,label=\"Wading\",bottom=Fishing)\n",
    "\n",
    "plt.xticks(r, names, fontweight='bold')\n",
    "plt.xlabel(\"Regions \")\n",
    "plt.legend()\n",
    "plt.show()"
   ]
  },
  {
   "cell_type": "code",
   "execution_count": 77,
   "metadata": {},
   "outputs": [
    {
     "data": {
      "text/plain": [
       "Region\n",
       "Northeast     20\n",
       "South        729\n",
       "West         274\n",
       "dtype: int64"
      ]
     },
     "execution_count": 77,
     "metadata": {},
     "output_type": "execute_result"
    }
   ],
   "source": [
    "new_us_data.groupby(\"Region\").size()"
   ]
  },
  {
   "cell_type": "code",
   "execution_count": 78,
   "metadata": {},
   "outputs": [
    {
     "data": {
      "text/plain": [
       "Division\n",
       "East South Central      9\n",
       "Middle Atlantic        10\n",
       "Mountain                1\n",
       "New England            10\n",
       "Pacific               273\n",
       "South Atlantic        684\n",
       "West South Central     36\n",
       "dtype: int64"
      ]
     },
     "execution_count": 78,
     "metadata": {},
     "output_type": "execute_result"
    }
   ],
   "source": [
    "new_us_data.groupby(\"Division\").size()"
   ]
  },
  {
   "cell_type": "code",
   "execution_count": 79,
   "metadata": {},
   "outputs": [
    {
     "name": "stdout",
     "output_type": "stream",
     "text": [
      "Region\n",
      "Northeast     20\n",
      "South        729\n",
      "West         274\n",
      "dtype: int64\n"
     ]
    },
    {
     "data": {
      "text/plain": [
       "<matplotlib.axes._subplots.AxesSubplot at 0x20b1ac37160>"
      ]
     },
     "execution_count": 79,
     "metadata": {},
     "output_type": "execute_result"
    },
    {
     "data": {
      "image/png": "[encoded data removed]",
      "text/plain": [
       "<Figure size 1080x360 with 1 Axes>"
      ]
     },
     "metadata": {
      "needs_background": "light"
     },
     "output_type": "display_data"
    }
   ],
   "source": [
    "###### Write your code here\n",
    "import seaborn as sns\n",
    "import matplotlib.pyplot as plt\n",
    "print(new_us_data.groupby(\"Region\").size())\n",
    "plt.figure(figsize=(15,5))\n",
    "sns.countplot(x=\"Region\",data=new_us_data)\n"
   ]
  },
  {
   "cell_type": "code",
   "execution_count": 80,
   "metadata": {},
   "outputs": [
    {
     "name": "stdout",
     "output_type": "stream",
     "text": [
      "Division\n",
      "East South Central      9\n",
      "Middle Atlantic        10\n",
      "Mountain                1\n",
      "New England            10\n",
      "Pacific               273\n",
      "South Atlantic        684\n",
      "West South Central     36\n",
      "dtype: int64\n"
     ]
    },
    {
     "data": {
      "text/plain": [
       "<matplotlib.axes._subplots.AxesSubplot at 0x20b1b64a390>"
      ]
     },
     "execution_count": 80,
     "metadata": {},
     "output_type": "execute_result"
    },
    {
     "data": {
      "image/png": "[encoded data removed]",
      "text/plain": [
       "<Figure size 1080x360 with 1 Axes>"
      ]
     },
     "metadata": {
      "needs_background": "light"
     },
     "output_type": "display_data"
    }
   ],
   "source": [
    "###### Write your code here\n",
    "import seaborn as sns\n",
    "import matplotlib.pyplot as plt\n",
    "print(new_us_data.groupby(\"Division\").size())\n",
    "plt.figure(figsize=(15,5))\n",
    "sns.countplot(x=\"Division\",data=new_us_data)\n"
   ]
  },
  {
   "cell_type": "code",
   "execution_count": null,
   "metadata": {},
   "outputs": [],
   "source": []
  },
  {
   "cell_type": "code",
   "execution_count": null,
   "metadata": {},
   "outputs": [],
   "source": []
  },
  {
   "cell_type": "code",
   "execution_count": null,
   "metadata": {},
   "outputs": [],
   "source": []
  },
  {
   "cell_type": "code",
   "execution_count": null,
   "metadata": {},
   "outputs": [],
   "source": []
  },
  {
   "cell_type": "code",
   "execution_count": null,
   "metadata": {},
   "outputs": [],
   "source": []
  }
 ],
 "metadata": {
  "kernelspec": {
   "display_name": "Python 3",
   "language": "python",
   "name": "python3"
  },
  "language_info": {
   "codemirror_mode": {
    "name": "ipython",
    "version": 3
   },
   "file_extension": ".py",
   "mimetype": "text/x-python",
   "name": "python",
   "nbconvert_exporter": "python",
   "pygments_lexer": "ipython3",
   "version": "3.7.1"
  }
 },
 "nbformat": 4,
 "nbformat_minor": 2
}
